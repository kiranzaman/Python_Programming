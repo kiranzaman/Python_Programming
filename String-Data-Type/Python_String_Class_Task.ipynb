{
 "cells": [
  {
   "cell_type": "markdown",
   "id": "31f94e11",
   "metadata": {},
   "source": [
    "---   \n",
    "---   \n",
    "\n",
    "<h1 align=\"center\">ExD</h1>\n",
    "<h1 align=\"center\">Course: Advanced Python Programming Language</h1>\n",
    "\n",
    "\n",
    "---\n",
    "<h3><div align=\"right\">Instructor: Kiran Khursheed</div></h3>    "
   ]
  },
  {
   "cell_type": "markdown",
   "id": "75076348",
   "metadata": {},
   "source": [
    "<h1 align=\"center\">Python Strings Class Task</h1>"
   ]
  },
  {
   "cell_type": "markdown",
   "id": "85b43b80",
   "metadata": {},
   "source": [
    "### Take an input string and perform the following transformations step by step, without using loops, comprehensions, conditions, map, filter, dict, set, or regex. Each step should use only string methods or built-in functions. \n",
    "1. Reverse the whole string.\n",
    "Example: \"Python is fun\" → \"nuf si nohtyP\"\n",
    "2. Reverse the word order (but not characters inside).\n",
    "Example: \"Python is fun\" → \"fun is Python\"\n",
    "3. Convert the string into uppercase.\n",
    "4. Remove all spaces.\n",
    "Example: \"Python is fun\" → \"Pythonisfun\"\n",
    "5. Replace all vowels (aeiouAEIOU) with #.\n",
    "6. Extract only digits from the string and keep them together.\n",
    "Example: \"abc123xyz45\" → \"12345\"\n",
    "7. Find the maximum character (lexicographically) from the string.\n",
    "8. Sort all characters alphabetically.\n",
    "Example: \"python\" → \"hnopty\"\n",
    "9. Count the total number of characters in the string (without len). \n",
    "10. Join the transformed results from steps 1–9 into one final mega-string separated by |.\n",
    "\n"
   ]
  },
  {
   "cell_type": "code",
   "execution_count": null,
   "id": "a5c9183b",
   "metadata": {},
   "outputs": [],
   "source": []
  }
 ],
 "metadata": {
  "kernelspec": {
   "display_name": "Python 3 (ipykernel)",
   "language": "python",
   "name": "python3"
  },
  "language_info": {
   "codemirror_mode": {
    "name": "ipython",
    "version": 3
   },
   "file_extension": ".py",
   "mimetype": "text/x-python",
   "name": "python",
   "nbconvert_exporter": "python",
   "pygments_lexer": "ipython3",
   "version": "3.9.7"
  }
 },
 "nbformat": 4,
 "nbformat_minor": 5
}
