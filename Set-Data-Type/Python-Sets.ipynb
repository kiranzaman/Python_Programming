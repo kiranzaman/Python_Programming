{
 "cells": [
  {
   "cell_type": "markdown",
   "id": "a6651c01",
   "metadata": {},
   "source": [
    "---   \n",
    "---   \n",
    "\n",
    "<h1 align=\"center\">ExD</h1>\n",
    "<h1 align=\"center\">Course: Advanced Python Programming Language</h1>\n",
    "\n",
    "\n",
    "---\n",
    "<h3><div align=\"right\">Instructor: Kiran Khursheed</div></h3>    "
   ]
  },
  {
   "cell_type": "markdown",
   "id": "a363bc39",
   "metadata": {},
   "source": [
    "<h1 align=\"center\">Python Sets</h1>"
   ]
  },
  {
   "cell_type": "markdown",
   "id": "95de41a5",
   "metadata": {},
   "source": [
    "## _Python-Sets.ipynb_\n",
    "#### [Click me to learn more about Python Sets](https://docs.python.org/3/tutorial/datastructures.html#sets)"
   ]
  },
  {
   "cell_type": "markdown",
   "id": "8ac4c95a",
   "metadata": {},
   "source": [
    "<img align=\"center\" width=\"800\" height=\"800\"  src=\"images/datatypes1.png\" > "
   ]
  },
  {
   "cell_type": "markdown",
   "id": "84f43960",
   "metadata": {},
   "source": [
    "> **A Set is an unordered and unindexed collection of heterogeneous items that is iterable, mutable and has no duplicate elements.**\n",
    "\n",
    "- Like Lists, a set is created by placing comma separated values, but in curly brackets rather square brackets. \n",
    "- Like List, a set also allows us to store elements of different data types in one container.\n",
    "- Like List, it is possible to add, remove, or modify values in a set.\n",
    "- Any immutable data type can be an element of a set: a number, a string, a tuple. Mutable data types cannot be elements of the set.\n",
    "- To be honest, this data structure is extremely useful and is underutilized by beginners, so try to keep it in mind!\n",
    "- The major advantage of using a set, as opposed to a list, is that it has a highly optimized method for membership testing and eliminating duplicate entries"
   ]
  },
  {
   "cell_type": "markdown",
   "id": "7c109b0c",
   "metadata": {},
   "source": [
    "## Learning agenda of this notebook\n",
    "1. How to create Sets?\n",
    "2. Proof of concepts: Sets are heterogeneous, un-ordered, mutable, nested, and DOES NOT allow duplicate elements\n",
    "3. Accessing elements of sets?\n",
    "4. Slicing a set (can't be performed as there is no index associated with set values)\n",
    "5. Set concatenation and repetition (can't be performed as on list and tuples)\n",
    "6. Adding/Updating elements to a set using `add()`, and `update()` methods\n",
    "7. Removing elements from a set using `pop()`, `remove()` and `discard()` methods. \n",
    "8. Converting string object to set and vice-versa (using type casting, `split()` and `join()`)\n",
    "9. Elements of a set cannot be sorted (being unordered)\n",
    "9. Misc set methods \n",
    "10.Some Built-in functions that can be used on sets (len, max, min, sum)\n",
    "11. Misc Concepts\n",
    "    - Union of sets \n",
    "    - Intersection of sets \n",
    "    - Difference of sets \n",
    "    - Symmetric Difference of sets \n",
    "    - Subsets \n",
    "    - Supersets \n",
    "    - Disjoint sets "
   ]
  },
  {
   "cell_type": "code",
   "execution_count": null,
   "id": "34f38cef",
   "metadata": {},
   "outputs": [],
   "source": [
    "help(set)"
   ]
  },
  {
   "cell_type": "markdown",
   "id": "78d11dc1",
   "metadata": {},
   "source": [
    "## 1. How to create Sets?\n",
    "- A set is created by placing comma separated values in curly brackets `{}`. \n",
    "- The preferred of creating a set is by using `set()` method, and passing a list to it, as curly brackets are also used by dictionary object in Python."
   ]
  },
  {
   "cell_type": "code",
   "execution_count": 31,
   "id": "88801cf7",
   "metadata": {},
   "outputs": [
    {
     "data": {
      "text/plain": [
       "({1, 2, 3, 4, 5}, set)"
      ]
     },
     "execution_count": 31,
     "metadata": {},
     "output_type": "execute_result"
    }
   ],
   "source": [
    "s1 = {1,2,3,4,5}   #set of integers\n",
    "s1 = set([1, 2, 3, 4, 5])\n",
    "s1, type(s1)"
   ]
  },
  {
   "cell_type": "code",
   "execution_count": null,
   "id": "ab77412e",
   "metadata": {},
   "outputs": [],
   "source": []
  },
  {
   "cell_type": "code",
   "execution_count": 32,
   "id": "1b82a24e",
   "metadata": {},
   "outputs": [
    {
     "name": "stdout",
     "output_type": "stream",
     "text": [
      "{3.8, 3.7, 6.5, 7.95}\n"
     ]
    }
   ],
   "source": [
    "s2 = {3.7, 6.5, 3.8, 7.95}   #set of floats\n",
    "s2 = set([3.7, 6.5, 3.8, 7.95])\n",
    "print(s2)"
   ]
  },
  {
   "cell_type": "code",
   "execution_count": 33,
   "id": "699523dd",
   "metadata": {},
   "outputs": [
    {
     "name": "stdout",
     "output_type": "stream",
     "text": [
      "{'good show', 'this', 'hello', 'F'}\n"
     ]
    }
   ],
   "source": [
    "s3 = {\"hello\", \"this\", \"F\", \"good show\"}   #set of strings\n",
    "s3 = set([\"hello\", \"this\", \"F\", \"good show\"])\n",
    "print(s3)"
   ]
  },
  {
   "cell_type": "code",
   "execution_count": 34,
   "id": "bcb32ccb",
   "metadata": {},
   "outputs": [
    {
     "name": "stdout",
     "output_type": "stream",
     "text": [
      "{False, True}\n"
     ]
    }
   ],
   "source": [
    "s4 = {True, False, True, True, False}   #set of boolean\n",
    "s4 = set([True, False, True, True, False])\n",
    "print(s4)\n"
   ]
  },
  {
   "cell_type": "code",
   "execution_count": 35,
   "id": "4ba31757",
   "metadata": {},
   "outputs": [
    {
     "name": "stdout",
     "output_type": "stream",
     "text": [
      "set()\n",
      "<class 'set'>\n"
     ]
    }
   ],
   "source": [
    "# creating an empty set\n",
    "#emptyset = {}  # this is not correct way\n",
    "\n",
    "# to create empty set, we can use set()\n",
    "s5 = set()\n",
    "print(s5)\n",
    "print(type(s5))"
   ]
  },
  {
   "cell_type": "markdown",
   "id": "48f77dc4",
   "metadata": {},
   "source": [
    "## 2. Proof of concepts: Sets are heterogeneous, unordered, mutable, nested, and does not allow duplicate elements"
   ]
  },
  {
   "cell_type": "markdown",
   "id": "39ca07b0",
   "metadata": {},
   "source": [
    "### a. Sets are heterogeneous\n",
    "- Sets are heterogeneous, as their elements/items can be of any data type"
   ]
  },
  {
   "cell_type": "code",
   "execution_count": 36,
   "id": "bc6ff398",
   "metadata": {},
   "outputs": [
    {
     "name": "stdout",
     "output_type": "stream",
     "text": [
      "s1:  {'Kiran', 5.5, 303}\n"
     ]
    }
   ],
   "source": [
    "s1 = {\"Kiran\", 303, 5.5}\n",
    "print(\"s1: \", s1)"
   ]
  },
  {
   "cell_type": "markdown",
   "id": "8cab05cb",
   "metadata": {},
   "source": [
    "### b. Sets are unordered\n",
    "- Sets are unordered means elements of a set are NOT associated by any index\n",
    "- When you access set elements they may show up in different sequence. \n",
    "- Moreover, two sets having same elements in different order \n",
    "    - have different memory addresses\n",
    "    - the `is` operator compares the memory adresses\n",
    "    - the `==` operator compares the contents"
   ]
  },
  {
   "cell_type": "code",
   "execution_count": 38,
   "id": "204c5f5a",
   "metadata": {},
   "outputs": [
    {
     "name": "stdout",
     "output_type": "stream",
     "text": [
      "{'is', 'learning', 'with', 'Kiran', 'fun'}\n"
     ]
    }
   ],
   "source": [
    "s2 = set(['learning', 'is', 'fun', 'with', 'Kiran'])\n",
    "print(s2)"
   ]
  },
  {
   "cell_type": "code",
   "execution_count": 39,
   "id": "0a78ae5f",
   "metadata": {},
   "outputs": [
    {
     "data": {
      "text/plain": [
       "(2399409232128, 2399410009248, True, False)"
      ]
     },
     "execution_count": 39,
     "metadata": {},
     "output_type": "execute_result"
    }
   ],
   "source": [
    "a = {1, 2, 3}\n",
    "b = {2, 3, 1}\n",
    "id(a), id(b), a == b, a is b"
   ]
  },
  {
   "cell_type": "markdown",
   "id": "97158f1c",
   "metadata": {},
   "source": [
    "### c. Sets are mutable\n",
    "- Yes, Python sets are mutable because the set itself may be modified, but the elements contained in the set must be of an immutable type.\n",
    "- However, since sets cannot be indexed, so we can't change them using index withing subscript operator"
   ]
  },
  {
   "cell_type": "code",
   "execution_count": 41,
   "id": "20dd3eb4",
   "metadata": {},
   "outputs": [
    {
     "name": "stdout",
     "output_type": "stream",
     "text": [
      "numbers:  {40, 10, 50, 20, 30}\n"
     ]
    }
   ],
   "source": [
    "numbers = set([10, 20, 30, 40, 50])\n",
    "#numbers[2] = 15   # Will flag an error because set elements cannot be indxed using ubscript operator\n",
    "\n",
    "print(\"numbers: \", numbers)"
   ]
  },
  {
   "cell_type": "markdown",
   "id": "2672fb9b",
   "metadata": {},
   "source": [
    "### d. Sets CANNOT have duplicate elements"
   ]
  },
  {
   "cell_type": "code",
   "execution_count": 42,
   "id": "44eca53d",
   "metadata": {},
   "outputs": [
    {
     "name": "stdout",
     "output_type": "stream",
     "text": [
      "{'Hrm', 'Aqsa', 'Sana', 'Basirat', 'Kiran', 'Wajeeha'}\n"
     ]
    }
   ],
   "source": [
    "# Sets do not allow duplicate elements\n",
    "# The following line will not raise an error, however, 'Kiran' will be added to the set only once\n",
    "names = {'Kiran', 'Aqsa', 'Sana', 'Kiran', 'Wajeeha','Basirat','Hrm'}\n",
    "print(names)"
   ]
  },
  {
   "cell_type": "code",
   "execution_count": 43,
   "id": "cf09e096",
   "metadata": {},
   "outputs": [
    {
     "name": "stdout",
     "output_type": "stream",
     "text": [
      "\n",
      "List:  [2, 4, 5, 6, 8, 7, 3, 3, 2]\n",
      "List converted to set:  {2, 3, 4, 5, 6, 7, 8}\n"
     ]
    }
   ],
   "source": [
    "# So when we want to remove duplication from list, we typecast it to a set\n",
    "mylist = [2, 4, 5, 6, 8, 7, 3, 3, 2]\n",
    "print(\"\\nList: \", mylist)\n",
    "myset = set(mylist)\n",
    "print(\"List converted to set: \", myset)"
   ]
  },
  {
   "cell_type": "markdown",
   "id": "3bdd5021",
   "metadata": {},
   "source": [
    "### e. Mutable data types cannot be elements of the set."
   ]
  },
  {
   "cell_type": "code",
   "execution_count": 45,
   "id": "249a9511",
   "metadata": {},
   "outputs": [
    {
     "data": {
      "text/plain": [
       "{(10, 'Hrm'), 30, 5.5, 'Kiran', True}"
      ]
     },
     "execution_count": 45,
     "metadata": {},
     "output_type": "execute_result"
    }
   ],
   "source": [
    "# You can have a number, string, and tuple type of elements inside a set (being immutable)\n",
    "s1 = {\"Kiran\", 30, 5.5, True, (10,'Hrm')}\n",
    "s1"
   ]
  },
  {
   "cell_type": "code",
   "execution_count": 46,
   "id": "ac591739",
   "metadata": {},
   "outputs": [
    {
     "ename": "TypeError",
     "evalue": "unhashable type: 'list'",
     "output_type": "error",
     "traceback": [
      "\u001b[1;31m---------------------------------------------------------------------------\u001b[0m",
      "\u001b[1;31mTypeError\u001b[0m                                 Traceback (most recent call last)",
      "\u001b[1;32m~\\AppData\\Local\\Temp/ipykernel_27544/1614663155.py\u001b[0m in \u001b[0;36m<module>\u001b[1;34m\u001b[0m\n\u001b[0;32m      1\u001b[0m \u001b[1;31m# You cannot have a list, set or dictionary inside a set (being mutable)\u001b[0m\u001b[1;33m\u001b[0m\u001b[1;33m\u001b[0m\u001b[0m\n\u001b[1;32m----> 2\u001b[1;33m \u001b[0ms1\u001b[0m \u001b[1;33m=\u001b[0m \u001b[1;33m{\u001b[0m\u001b[1;34m\"Kiran\"\u001b[0m\u001b[1;33m,\u001b[0m \u001b[1;36m30\u001b[0m\u001b[1;33m,\u001b[0m \u001b[1;36m5.5\u001b[0m\u001b[1;33m,\u001b[0m \u001b[1;33m[\u001b[0m\u001b[1;36m10\u001b[0m\u001b[1;33m,\u001b[0m\u001b[1;34m'Hrm'\u001b[0m\u001b[1;33m]\u001b[0m\u001b[1;33m}\u001b[0m\u001b[1;33m\u001b[0m\u001b[1;33m\u001b[0m\u001b[0m\n\u001b[0m",
      "\u001b[1;31mTypeError\u001b[0m: unhashable type: 'list'"
     ]
    }
   ],
   "source": [
    "# You cannot have a list, set or dictionary inside a set (being mutable)\n",
    "s1 = {\"Kiran\", 30, 5.5, [10,'Hrm']}"
   ]
  },
  {
   "cell_type": "code",
   "execution_count": 48,
   "id": "f88676ce",
   "metadata": {},
   "outputs": [
    {
     "ename": "TypeError",
     "evalue": "unhashable type: 'set'",
     "output_type": "error",
     "traceback": [
      "\u001b[1;31m---------------------------------------------------------------------------\u001b[0m",
      "\u001b[1;31mTypeError\u001b[0m                                 Traceback (most recent call last)",
      "\u001b[1;32m~\\AppData\\Local\\Temp/ipykernel_27544/3917819421.py\u001b[0m in \u001b[0;36m<module>\u001b[1;34m\u001b[0m\n\u001b[0;32m      1\u001b[0m \u001b[1;31m# You cannot have a list, set or dictionary inside a set (being mutable)\u001b[0m\u001b[1;33m\u001b[0m\u001b[1;33m\u001b[0m\u001b[0m\n\u001b[1;32m----> 2\u001b[1;33m \u001b[0ms1\u001b[0m \u001b[1;33m=\u001b[0m \u001b[1;33m{\u001b[0m\u001b[1;34m\"Kiran\"\u001b[0m\u001b[1;33m,\u001b[0m \u001b[1;36m30\u001b[0m\u001b[1;33m,\u001b[0m \u001b[1;36m5.5\u001b[0m\u001b[1;33m,\u001b[0m \u001b[1;33m{\u001b[0m\u001b[1;36m10\u001b[0m\u001b[1;33m,\u001b[0m\u001b[1;34m'Hrm'\u001b[0m\u001b[1;33m}\u001b[0m\u001b[1;33m}\u001b[0m\u001b[1;33m\u001b[0m\u001b[1;33m\u001b[0m\u001b[0m\n\u001b[0m",
      "\u001b[1;31mTypeError\u001b[0m: unhashable type: 'set'"
     ]
    }
   ],
   "source": [
    "# You cannot have a list, set or dictionary inside a set (being mutable)\n",
    "s1 = {\"Kiran\", 30, 5.5, {10,'Hrm'}}"
   ]
  },
  {
   "cell_type": "code",
   "execution_count": 47,
   "id": "74906d5f",
   "metadata": {},
   "outputs": [
    {
     "ename": "TypeError",
     "evalue": "unhashable type: 'dict'",
     "output_type": "error",
     "traceback": [
      "\u001b[1;31m---------------------------------------------------------------------------\u001b[0m",
      "\u001b[1;31mTypeError\u001b[0m                                 Traceback (most recent call last)",
      "\u001b[1;32m~\\AppData\\Local\\Temp/ipykernel_27544/2933707696.py\u001b[0m in \u001b[0;36m<module>\u001b[1;34m\u001b[0m\n\u001b[0;32m      1\u001b[0m \u001b[1;31m# You cannot have a list, set or dictionary inside a set (being mutable)\u001b[0m\u001b[1;33m\u001b[0m\u001b[1;33m\u001b[0m\u001b[0m\n\u001b[1;32m----> 2\u001b[1;33m \u001b[0ms1\u001b[0m \u001b[1;33m=\u001b[0m \u001b[1;33m{\u001b[0m\u001b[1;34m\"Kiran\"\u001b[0m\u001b[1;33m,\u001b[0m \u001b[1;36m30\u001b[0m\u001b[1;33m,\u001b[0m \u001b[1;36m5.5\u001b[0m\u001b[1;33m,\u001b[0m \u001b[1;33m{\u001b[0m\u001b[1;34m'key'\u001b[0m\u001b[1;33m:\u001b[0m\u001b[1;34m'value'\u001b[0m\u001b[1;33m}\u001b[0m\u001b[1;33m}\u001b[0m\u001b[1;33m\u001b[0m\u001b[1;33m\u001b[0m\u001b[0m\n\u001b[0m",
      "\u001b[1;31mTypeError\u001b[0m: unhashable type: 'dict'"
     ]
    }
   ],
   "source": [
    "# You cannot have a list, set or dictionary inside a set (being mutable)\n",
    "s1 = {\"Kiran\", 30, 5.5, {'key':'value'}}"
   ]
  },
  {
   "cell_type": "markdown",
   "id": "f15c5f09",
   "metadata": {},
   "source": [
    "### e. Nested Sets\n",
    "- You can have tuple inside a set\n",
    "- However, you CANNOT have a list, set, and dictionary objects inside a set, because sets cannot contain mutable values\n",
    "- This is one situation where you may wish to use a frozenset, which is very similar to a set except that a frozenset is immutable."
   ]
  },
  {
   "cell_type": "code",
   "execution_count": 49,
   "id": "9b7a9473",
   "metadata": {},
   "outputs": [
    {
     "name": "stdout",
     "output_type": "stream",
     "text": [
      "{'Kiran', 5.5, 30, (10, 'hrm')}\n"
     ]
    }
   ],
   "source": [
    "# Nested sets: sets can have another tuple as an item\n",
    "s1 = {\"Kiran\", 30, 5.5, (10,'hrm')}\n",
    "print(s1)"
   ]
  },
  {
   "cell_type": "code",
   "execution_count": 50,
   "id": "730c6029",
   "metadata": {},
   "outputs": [],
   "source": [
    "# However, you cannot have a list inside a set, , because sets cannot contain mutable values (lists are mutable)\n",
    "#s1 = {\"Kiran\", 30, 5.5, [10,'hrm']} # Error unhashable type list"
   ]
  },
  {
   "cell_type": "code",
   "execution_count": 51,
   "id": "78cb26b4",
   "metadata": {},
   "outputs": [],
   "source": [
    "#Similarly, you cannot have a set within a set, because sets cannot contain mutable values (sets are mutable)\n",
    "#s1 = {\"Kiran\", 30, 5.5, {10,'hrm'}} # Error unhashable type set"
   ]
  },
  {
   "cell_type": "markdown",
   "id": "188b18b7",
   "metadata": {},
   "source": [
    "### f. Packing and Unpacking Sets"
   ]
  },
  {
   "cell_type": "code",
   "execution_count": 53,
   "id": "4fc9e430",
   "metadata": {},
   "outputs": [
    {
     "name": "stdout",
     "output_type": "stream",
     "text": [
      "{'is', 'learning', 'with', 'Kiran', 'fun'}\n",
      "is learning with Kiran fun\n"
     ]
    }
   ],
   "source": [
    "# you can unpack set elements\n",
    "myset = set(['learning', 'is', 'fun', 'with', 'Kiran'])\n",
    "print(myset)\n",
    "a, b, c, d, e = myset # the number of variables on the left must match the length of set\n",
    "print (a, b, c, d, e)"
   ]
  },
  {
   "cell_type": "markdown",
   "id": "343a1c9f",
   "metadata": {},
   "source": [
    "**Note the randomness, because sets are unordered**"
   ]
  },
  {
   "cell_type": "code",
   "execution_count": 54,
   "id": "4daa862f",
   "metadata": {},
   "outputs": [
    {
     "name": "stdout",
     "output_type": "stream",
     "text": [
      "{'is', 'learning', 'with', 'Kiran', 'fun'}\n",
      "<class 'set'>\n"
     ]
    }
   ],
   "source": [
    "# you can pack individual elements to a set\n",
    "t1 = a, b, c, d, e  # By default they are packed into a tuple\n",
    "set2 = set(t1)      # So you have to type cast it to set\n",
    "print (set2)\n",
    "print(type(set2))"
   ]
  },
  {
   "cell_type": "markdown",
   "id": "418db83b",
   "metadata": {},
   "source": [
    "## 3. Different ways to access elements of a Set\n",
    "- Since sets are unordered, i.e., items of a set have no associated index, therefore elements of a Set cannot be accessed by referring to an index\n",
    "- However, you can access individual set elements using a for loop\n",
    "- Ask if a specified value is present in a set, by using the `in` operator."
   ]
  },
  {
   "cell_type": "code",
   "execution_count": 55,
   "id": "ef2037c4",
   "metadata": {},
   "outputs": [
    {
     "name": "stdout",
     "output_type": "stream",
     "text": [
      "myset:  {'is', 'fun', 'with', 'Kiran', 'learning'}\n"
     ]
    }
   ],
   "source": [
    "# Set items cannot be accessed by referring to an index, since sets are unordered the items has no index. \n",
    "myset = set(['learning', 'is', 'fun', 'with', 'Kiran'])\n",
    "myset = {'learning', 'is', 'fun', 'with', 'Kiran'}\n",
    "print(\"myset: \", myset)"
   ]
  },
  {
   "cell_type": "code",
   "execution_count": 56,
   "id": "5e66b052",
   "metadata": {},
   "outputs": [
    {
     "name": "stdout",
     "output_type": "stream",
     "text": [
      "is learning with Kiran fun "
     ]
    }
   ],
   "source": [
    "# But you can loop through the set items using a for loop\n",
    "myset = set(['learning', 'is', 'fun', 'with', 'Kiran'])\n",
    "for i in myset:\n",
    "    print(i, end=' ')"
   ]
  },
  {
   "cell_type": "code",
   "execution_count": 57,
   "id": "d42c7653",
   "metadata": {},
   "outputs": [
    {
     "data": {
      "text/plain": [
       "True"
      ]
     },
     "execution_count": 57,
     "metadata": {},
     "output_type": "execute_result"
    }
   ],
   "source": [
    "# To check if a specific element is there in the set, use the in keyword\n",
    "rv = 'fun' in myset\n",
    "rv "
   ]
  },
  {
   "cell_type": "markdown",
   "id": "6981795a",
   "metadata": {},
   "source": [
    "## 4. You cannot perform Slicing on Sets\n",
    "- Slicing is the process of obtaining a portion of a sequence by using its indices.\n",
    "- Since no indices are associated with Set elements, so they do not support slicing or indexing in `[ ]` operator"
   ]
  },
  {
   "cell_type": "markdown",
   "id": "f675f997",
   "metadata": {},
   "source": [
    "## 5. You cannot perform Set Concatenation and Repetition\n",
    "- The concatenation operator `+` and replication operator `*` does not work on sets, as there is no index associated with set elements. So concatenation and repetition using `+` and `*` operator doesnot make any sense"
   ]
  },
  {
   "cell_type": "markdown",
   "id": "0089ec98",
   "metadata": {},
   "source": [
    "## 6. Adding elements to a Set\n",
    "- Sets are dynamic, as we write our Python program, we can actually make changes to our already created set, whithout having to go for compiling it again. \n",
    "- If we have to add certain elements to an already created set, the original set gorws dynamically without the need of compiling/running the program again (as in case of heap memory in C/C++)"
   ]
  },
  {
   "cell_type": "markdown",
   "id": "f15562e5",
   "metadata": {},
   "source": [
    "### a. Cannot Modify/Add elements to a set using [ ] operator"
   ]
  },
  {
   "cell_type": "markdown",
   "id": "054f79f4",
   "metadata": {},
   "source": [
    "### b. Adding elements to a set using `set.add(value)` method\n",
    "- The `set.add(val)` method is used to add an element to a set\n",
    "- Only one element at a time can be added to the set by using `set.add()` method\n",
    "- Lists and sets cannot be added to a set as elements because they are mutable (hashable)\n",
    "- Tuples can be added because tuples are immutable and hence Hashable. "
   ]
  },
  {
   "cell_type": "code",
   "execution_count": 58,
   "id": "4376bcfa",
   "metadata": {},
   "outputs": [
    {
     "name": "stdout",
     "output_type": "stream",
     "text": [
      "Help on method_descriptor:\n",
      "\n",
      "add(...)\n",
      "    Add an element to a set.\n",
      "    \n",
      "    This has no effect if the element is already present.\n",
      "\n"
     ]
    }
   ],
   "source": [
    "help(set.add)"
   ]
  },
  {
   "cell_type": "code",
   "execution_count": 59,
   "id": "37eca3ae",
   "metadata": {},
   "outputs": [
    {
     "data": {
      "text/plain": [
       "{25, 73}"
      ]
     },
     "execution_count": 59,
     "metadata": {},
     "output_type": "execute_result"
    }
   ],
   "source": [
    "#create an empty set\n",
    "set1 = set()\n",
    "set1.add(25)\n",
    "set1.add(73)\n",
    "set1"
   ]
  },
  {
   "cell_type": "code",
   "execution_count": 60,
   "id": "8dffa764",
   "metadata": {},
   "outputs": [
    {
     "data": {
      "text/plain": [
       "{25, 73}"
      ]
     },
     "execution_count": 60,
     "metadata": {},
     "output_type": "execute_result"
    }
   ],
   "source": [
    "# Adding an existing element\n",
    "set1.add(25)\n",
    "set1"
   ]
  },
  {
   "cell_type": "code",
   "execution_count": 61,
   "id": "3273a3b1",
   "metadata": {},
   "outputs": [
    {
     "name": "stdout",
     "output_type": "stream",
     "text": [
      "Set after adding three elements:  {73, 25, (19, 25)}\n"
     ]
    }
   ],
   "source": [
    "# Adding a tuple\n",
    "set1.add((19,25))\n",
    "print(\"Set after adding three elements: \", set1)\n"
   ]
  },
  {
   "cell_type": "markdown",
   "id": "6fa7f3ff",
   "metadata": {},
   "source": [
    "### c. Adding elements to a set using `set.add(val)` or `set.update(val)` method\n",
    "- The `set.add(val)` method is used to add a single element to a set\n",
    "- The `set.update(val)` method is used to add two or more elements to a set\n",
    "- If the value already exist no change occur\n",
    "- Lists and sets cannot be added to a set as elements because they are not hashable \n",
    "- Tuples can be added because tuples are immutable and hence Hashable. "
   ]
  },
  {
   "cell_type": "code",
   "execution_count": null,
   "id": "e1667dd0",
   "metadata": {},
   "outputs": [],
   "source": [
    "s1 = set()\n",
    "help(s1.add)"
   ]
  },
  {
   "cell_type": "code",
   "execution_count": 62,
   "id": "f8f7703e",
   "metadata": {},
   "outputs": [
    {
     "name": "stdout",
     "output_type": "stream",
     "text": [
      "Help on built-in function update:\n",
      "\n",
      "update(...) method of builtins.set instance\n",
      "    Update a set with the union of itself and others.\n",
      "\n"
     ]
    }
   ],
   "source": [
    "set1 = set()\n",
    "help(set1.update)"
   ]
  },
  {
   "cell_type": "code",
   "execution_count": 63,
   "id": "a20a9c65",
   "metadata": {},
   "outputs": [
    {
     "data": {
      "text/plain": [
       "{4, 9, 12, 99}"
      ]
     },
     "execution_count": 63,
     "metadata": {},
     "output_type": "execute_result"
    }
   ],
   "source": [
    "# add() method is used to add a single element, passed as a list\n",
    "set1 = set([4, 9, 12])\n",
    "set1.add(99)\n",
    "set1.add(4) # Note the duplicate element 4 will not be added twice\n",
    "set1 "
   ]
  },
  {
   "cell_type": "code",
   "execution_count": 64,
   "id": "4ca664fe",
   "metadata": {},
   "outputs": [
    {
     "data": {
      "text/plain": [
       "{3.5, 4, 9, 12, 99}"
      ]
     },
     "execution_count": 64,
     "metadata": {},
     "output_type": "execute_result"
    }
   ],
   "source": [
    "# update() method is used to add one, two or more elements, passed as a list\n",
    "set1 = set([4, 9, 12])\n",
    "set1.update([99])\n",
    "set1.update([4, 3.5]) # Note the duplicate element 4 will not be added twice\n",
    "set1"
   ]
  },
  {
   "cell_type": "code",
   "execution_count": 65,
   "id": "b619bbe3",
   "metadata": {},
   "outputs": [
    {
     "data": {
      "text/plain": [
       "{12, 4, 45, 9, 'khursheed', 'kiran'}"
      ]
     },
     "execution_count": 65,
     "metadata": {},
     "output_type": "execute_result"
    }
   ],
   "source": [
    "# update() method is used to add one two or more elements, passed as a list\n",
    "set3 = set([4, 9, 12])\n",
    "set3.update(['kiran', 'khursheed', 45])\n",
    "set3"
   ]
  },
  {
   "cell_type": "code",
   "execution_count": 67,
   "id": "c5267657",
   "metadata": {},
   "outputs": [
    {
     "data": {
      "text/plain": [
       "{4, 9, 12, 33}"
      ]
     },
     "execution_count": 67,
     "metadata": {},
     "output_type": "execute_result"
    }
   ],
   "source": [
    "# You cannot add a single numeric value being not iterable\n",
    "set2 = set([4, 9, 12])\n",
    "set2.update([33])\n",
    "set2"
   ]
  },
  {
   "cell_type": "code",
   "execution_count": 23,
   "id": "9279b662",
   "metadata": {},
   "outputs": [
    {
     "data": {
      "text/plain": [
       "{12, 4, 9, 'a', 'i', 'k', 'n', 'r'}"
      ]
     },
     "execution_count": 23,
     "metadata": {},
     "output_type": "execute_result"
    }
   ],
   "source": [
    "# See what happens when you add a string \n",
    "set2 = set([4, 9, 12])\n",
    "set2.update('kiran')\n",
    "set2"
   ]
  },
  {
   "cell_type": "code",
   "execution_count": 68,
   "id": "9671ff93",
   "metadata": {},
   "outputs": [
    {
     "data": {
      "text/plain": [
       "{(44, 33), (99, 88), 12, 4, 9}"
      ]
     },
     "execution_count": 68,
     "metadata": {},
     "output_type": "execute_result"
    }
   ],
   "source": [
    "# the update() method also accepts a list having one or more tuples as its argument\n",
    "set4 = set([4, 9, 12])\n",
    "set4.update([(99, 88), (44, 33)])\n",
    "set4"
   ]
  },
  {
   "cell_type": "markdown",
   "id": "ae40dd9e",
   "metadata": {},
   "source": [
    "## 7. Removing elements from a set\n",
    "- Sets are dynamic, as we write our Python program, we can actually make changes to our already created sets, whithout having to go for compiling it again. \n",
    "- If we have to remove certain elements from an already created set, the original set shrinks dynamically without the need of compiling/running the program again (as in case of heap memory in C/C++)"
   ]
  },
  {
   "cell_type": "markdown",
   "id": "e68b7d6e",
   "metadata": {},
   "source": [
    "### a. Removing element from a set using `set.pop(index)` method\n",
    "- The `set.pop()` method removes and return an arbitrary set element"
   ]
  },
  {
   "cell_type": "code",
   "execution_count": null,
   "id": "f2f0cf51",
   "metadata": {},
   "outputs": [],
   "source": [
    "s1 = set()\n",
    "help(s1.pop)"
   ]
  },
  {
   "cell_type": "code",
   "execution_count": 69,
   "id": "33f7704a",
   "metadata": {},
   "outputs": [
    {
     "name": "stdout",
     "output_type": "stream",
     "text": [
      "Original set:  {'is', 'fun', 'with', 'kiran', 'khursheed', 'learning'}\n",
      "Element popped is:  is\n",
      "Set now is:  {'fun', 'with', 'kiran', 'khursheed', 'learning'}\n"
     ]
    }
   ],
   "source": [
    "s1 = {'learning', 'is', 'fun', 'with', 'kiran', 'khursheed'}\n",
    "print(\"Original set: \", s1)\n",
    "\n",
    "x  = s1.pop()\n",
    "print(\"Element popped is: \", x)\n",
    "print(\"Set now is: \", s1)\n"
   ]
  },
  {
   "cell_type": "markdown",
   "id": "c671b027",
   "metadata": {},
   "source": [
    "### b. Removing element from a set using `set.remove(val)` method\n",
    "- The `set.remove(val)` method is used to remove a specific element by value from a set without returning it\n",
    "- The remove method is passed exactly one argument, which is the value to be removed and returns none/void"
   ]
  },
  {
   "cell_type": "code",
   "execution_count": 70,
   "id": "7f107f44",
   "metadata": {},
   "outputs": [
    {
     "name": "stdout",
     "output_type": "stream",
     "text": [
      "Help on built-in function remove:\n",
      "\n",
      "remove(...) method of builtins.set instance\n",
      "    Remove an element from a set; it must be a member.\n",
      "    \n",
      "    If the element is not a member, raise a KeyError.\n",
      "\n"
     ]
    }
   ],
   "source": [
    "s1 = set()\n",
    "help(s1.remove)"
   ]
  },
  {
   "cell_type": "code",
   "execution_count": 72,
   "id": "4f57faff",
   "metadata": {},
   "outputs": [
    {
     "name": "stdout",
     "output_type": "stream",
     "text": [
      "\n",
      "Original set:  {'Advanced', 'Welcome', 'Python', 'to', 'of', 'course'}\n",
      "After remove('cource'):  {'Advanced', 'Welcome', 'Python', 'to', 'of'}\n",
      "Return value of remove() is:  None\n"
     ]
    },
    {
     "ename": "KeyError",
     "evalue": "'kiran'",
     "output_type": "error",
     "traceback": [
      "\u001b[1;31m---------------------------------------------------------------------------\u001b[0m",
      "\u001b[1;31mKeyError\u001b[0m                                  Traceback (most recent call last)",
      "\u001b[1;32m~\\AppData\\Local\\Temp/ipykernel_27544/3606549084.py\u001b[0m in \u001b[0;36m<module>\u001b[1;34m\u001b[0m\n\u001b[0;32m      6\u001b[0m \u001b[1;33m\u001b[0m\u001b[0m\n\u001b[0;32m      7\u001b[0m \u001b[1;31m# If the element to be removed does not exist in the set remove() method will flag an error\u001b[0m\u001b[1;33m\u001b[0m\u001b[1;33m\u001b[0m\u001b[0m\n\u001b[1;32m----> 8\u001b[1;33m \u001b[0my\u001b[0m \u001b[1;33m=\u001b[0m \u001b[0ms2\u001b[0m\u001b[1;33m.\u001b[0m\u001b[0mremove\u001b[0m\u001b[1;33m(\u001b[0m\u001b[1;34m'kiran'\u001b[0m\u001b[1;33m)\u001b[0m  \u001b[1;31m# Error: Element doesn’t exist in the set.\u001b[0m\u001b[1;33m\u001b[0m\u001b[1;33m\u001b[0m\u001b[0m\n\u001b[0m",
      "\u001b[1;31mKeyError\u001b[0m: 'kiran'"
     ]
    }
   ],
   "source": [
    "s2 = set(['Welcome', 'to', 'course', 'of', 'Advanced', 'Python'])\n",
    "print(\"\\nOriginal set: \", s2)\n",
    "x = s2.remove('course')\n",
    "print(\"After remove('cource'): \", s2)\n",
    "print(\"Return value of remove() is: \", x)\n",
    "\n",
    "# If the element to be removed does not exist in the set remove() method will flag an error\n",
    "y = s2.remove('kiran')  # Error: Element doesn’t exist in the set. "
   ]
  },
  {
   "cell_type": "markdown",
   "id": "3e3173d2",
   "metadata": {},
   "source": [
    "### c. Removing element from a set using `set.discard(val)` method\n",
    "- The `set.discard(val)` like `set.remove(val)` method is used to remove a specific element by value from a set without returning it\n",
    "- The advantage of using `set.discard(val)` method is that, if the element doesn’t exist in the set, no error is raised and the set remains unchanged."
   ]
  },
  {
   "cell_type": "code",
   "execution_count": null,
   "id": "6d7e82ec",
   "metadata": {},
   "outputs": [],
   "source": [
    "s1 = set()\n",
    "help(s1.discard)"
   ]
  },
  {
   "cell_type": "code",
   "execution_count": 73,
   "id": "1aea3ce6",
   "metadata": {},
   "outputs": [
    {
     "data": {
      "text/plain": [
       "{'Advanced', 'Python', 'Welcome', 'course', 'of', 'to', 'with'}"
      ]
     },
     "execution_count": 73,
     "metadata": {},
     "output_type": "execute_result"
    }
   ],
   "source": [
    "s2 = set(['Welcome', 'to', 'course', 'of', 'Advanced', 'Python','with','kiran'])\n",
    "y = s2.discard('kiran')\n",
    "s2"
   ]
  },
  {
   "cell_type": "code",
   "execution_count": 74,
   "id": "ab0b9932",
   "metadata": {},
   "outputs": [
    {
     "data": {
      "text/plain": [
       "{'Advanced', 'Python', 'Welcome', 'course', 'kiran', 'of', 'to', 'with'}"
      ]
     },
     "execution_count": 74,
     "metadata": {},
     "output_type": "execute_result"
    }
   ],
   "source": [
    "s2 = set(['Welcome', 'to', 'course', 'of', 'Advanced', 'Python','with','kiran'])\n",
    "y = s2.discard('sana')\n",
    "s2"
   ]
  },
  {
   "cell_type": "markdown",
   "id": "dda6cf82",
   "metadata": {},
   "source": [
    "### d. Using `set.clear()` method to remove all the set elements"
   ]
  },
  {
   "cell_type": "code",
   "execution_count": 75,
   "id": "68d85dc0",
   "metadata": {},
   "outputs": [
    {
     "data": {
      "text/plain": [
       "{'Advanced', 'Python', 'Welcome', 'course', 'of', 'to'}"
      ]
     },
     "execution_count": 75,
     "metadata": {},
     "output_type": "execute_result"
    }
   ],
   "source": [
    "#use the clear() method to empty a set\n",
    "s2 = set(['Welcome', 'to', 'course', 'of', 'Advanced', 'Python'])\n",
    "s2"
   ]
  },
  {
   "cell_type": "code",
   "execution_count": 76,
   "id": "31117f63",
   "metadata": {},
   "outputs": [
    {
     "data": {
      "text/plain": [
       "set()"
      ]
     },
     "execution_count": 76,
     "metadata": {},
     "output_type": "execute_result"
    }
   ],
   "source": [
    "s2.clear()\n",
    "s2"
   ]
  },
  {
   "cell_type": "markdown",
   "id": "b25354c2",
   "metadata": {},
   "source": [
    "### e. Using `del` Keyword to delete the set entirely from memory"
   ]
  },
  {
   "cell_type": "code",
   "execution_count": 77,
   "id": "149dc87f",
   "metadata": {},
   "outputs": [
    {
     "data": {
      "text/plain": [
       "{'Advanced', 'Python', 'Welcome', 'course', 'of', 'to'}"
      ]
     },
     "execution_count": 77,
     "metadata": {},
     "output_type": "execute_result"
    }
   ],
   "source": [
    "# use del keyword to delete entire set, (you cannot delete a specific element as it is non-indexed)\n",
    "s2 = set(['Welcome', 'to', 'course', 'of', 'Advanced', 'Python'])\n",
    "s2 "
   ]
  },
  {
   "cell_type": "code",
   "execution_count": 78,
   "id": "20feadb2",
   "metadata": {},
   "outputs": [
    {
     "ename": "NameError",
     "evalue": "name 's2' is not defined",
     "output_type": "error",
     "traceback": [
      "\u001b[1;31m---------------------------------------------------------------------------\u001b[0m",
      "\u001b[1;31mNameError\u001b[0m                                 Traceback (most recent call last)",
      "\u001b[1;32m~\\AppData\\Local\\Temp/ipykernel_27544/1246619002.py\u001b[0m in \u001b[0;36m<module>\u001b[1;34m\u001b[0m\n\u001b[0;32m      1\u001b[0m \u001b[1;32mdel\u001b[0m \u001b[0ms2\u001b[0m\u001b[1;33m\u001b[0m\u001b[1;33m\u001b[0m\u001b[0m\n\u001b[1;32m----> 2\u001b[1;33m \u001b[0mprint\u001b[0m\u001b[1;33m(\u001b[0m\u001b[0ms2\u001b[0m\u001b[1;33m)\u001b[0m\u001b[1;33m\u001b[0m\u001b[1;33m\u001b[0m\u001b[0m\n\u001b[0m",
      "\u001b[1;31mNameError\u001b[0m: name 's2' is not defined"
     ]
    }
   ],
   "source": [
    "del s2\n",
    "print(s2)"
   ]
  },
  {
   "cell_type": "markdown",
   "id": "0f4dd1c2",
   "metadata": {},
   "source": [
    "## 8. Converting string object to set and vice-versa (using type casting, split() and join())"
   ]
  },
  {
   "cell_type": "markdown",
   "id": "051759d3",
   "metadata": {},
   "source": [
    "### a. Type Casting"
   ]
  },
  {
   "cell_type": "code",
   "execution_count": 7,
   "id": "24e78729",
   "metadata": {},
   "outputs": [
    {
     "name": "stdout",
     "output_type": "stream",
     "text": [
      "Original string:  Learning is fun\n",
      "s1:  {'n', 's', 'e', 'r', 'L', 'i', ' ', 'g', 'f', 'a', 'u'} and its type is:   <class 'set'>\n"
     ]
    }
   ],
   "source": [
    "# convert a string into set using set()\n",
    "str1 = 'Learning is fun'    #this is a string\n",
    "print(\"Original string: \", str1)\n",
    "\n",
    "s1 = set(str1)\n",
    "print(\"s1: \", s1, \"and its type is:  \", type(s1))"
   ]
  },
  {
   "cell_type": "markdown",
   "id": "a19b18c0",
   "metadata": {},
   "source": [
    "### b. Use `str.split()` to Split a Tuple into Strings\n",
    "- Used to tokenize a string based on some delimiter, which can be stored in a Tuple\n",
    "- It returns a list having tokens of the string based on spaces if no argument is passed"
   ]
  },
  {
   "cell_type": "code",
   "execution_count": null,
   "id": "da289249",
   "metadata": {},
   "outputs": [],
   "source": [
    "str1 = \"\"\n",
    "help(str1.split)"
   ]
  },
  {
   "cell_type": "code",
   "execution_count": 79,
   "id": "1a729e8c",
   "metadata": {},
   "outputs": [
    {
     "name": "stdout",
     "output_type": "stream",
     "text": [
      "{'is', 'fun', 'Learning'}\n",
      "<class 'set'>\n"
     ]
    }
   ],
   "source": [
    "str1 = 'Learning is fun'    #this is a string\n",
    "set1 = set(str1.split(' '))\n",
    "print(set1)\n",
    "print(type(set1))"
   ]
  },
  {
   "cell_type": "code",
   "execution_count": 80,
   "id": "5f84edb1",
   "metadata": {},
   "outputs": [
    {
     "data": {
      "text/plain": [
       "{'Advan', 'ed Python is GR8 Course'}"
      ]
     },
     "execution_count": 80,
     "metadata": {},
     "output_type": "execute_result"
    }
   ],
   "source": [
    "str2 = \"Advanced Python is GR8 Course\"    #this is a string\n",
    "set2 = set(str2.split('c'))\n",
    "set2"
   ]
  },
  {
   "cell_type": "markdown",
   "id": "f532e4a3",
   "metadata": {},
   "source": [
    "### c. Use `str.join()` to Join Strings into a List\n",
    "- It is the reverse of `str.split()` method, and is used to joing multiple strings by inserting the string in between on which this method is called"
   ]
  },
  {
   "cell_type": "code",
   "execution_count": null,
   "id": "0da0e902",
   "metadata": {},
   "outputs": [],
   "source": [
    "str1 = \"\"\n",
    "help(str1.join)"
   ]
  },
  {
   "cell_type": "code",
   "execution_count": 81,
   "id": "2adc8071",
   "metadata": {},
   "outputs": [
    {
     "data": {
      "text/plain": [
       "{'This', 'and', 'getting', 'interesting', 'is', 'more'}"
      ]
     },
     "execution_count": 81,
     "metadata": {},
     "output_type": "execute_result"
    }
   ],
   "source": [
    "set1 = {'This', 'is', 'getting', 'more', 'and', 'more', 'interesting'}\n",
    "set1"
   ]
  },
  {
   "cell_type": "code",
   "execution_count": 82,
   "id": "f8b08a8f",
   "metadata": {},
   "outputs": [
    {
     "name": "stdout",
     "output_type": "stream",
     "text": [
      "is This more interesting getting and\n",
      "<class 'str'>\n"
     ]
    }
   ],
   "source": [
    "str2 = ' '.join(set1)\n",
    "print(str2)\n",
    "print(type(str2))"
   ]
  },
  {
   "cell_type": "code",
   "execution_count": 84,
   "id": "ea960162",
   "metadata": {},
   "outputs": [
    {
     "name": "stdout",
     "output_type": "stream",
     "text": [
      "is # This # more # interesting # getting # and\n",
      "<class 'str'>\n"
     ]
    }
   ],
   "source": [
    "delimiter = \" # \"\n",
    "str3 = delimiter.join(set1)\n",
    "print(str3)\n",
    "print(type(str3))"
   ]
  },
  {
   "cell_type": "markdown",
   "id": "fbf88b2e",
   "metadata": {},
   "source": [
    "## 9. Elements of a Set Cannot be Sorted\n",
    "- Given that sets are unordered, it is not possible to sort the values of a set. So you cannot call the built-in function `sorted()` or the `list.sort()` method on sets"
   ]
  },
  {
   "cell_type": "markdown",
   "id": "aa367cb0",
   "metadata": {},
   "source": [
    "## 10.  Misc Concepts"
   ]
  },
  {
   "cell_type": "markdown",
   "id": "98eb2d24",
   "metadata": {},
   "source": [
    "**Like Lists and Tuples, you can apply `max()`, `min()`, and `sum()` functions on Sets with numeric elements**"
   ]
  },
  {
   "cell_type": "code",
   "execution_count": 85,
   "id": "2f025aa2",
   "metadata": {},
   "outputs": [
    {
     "name": "stdout",
     "output_type": "stream",
     "text": [
      "length of set:  6\n",
      "max element in set:  8\n",
      "min element in list:  0\n",
      "Sum of element in list:  22\n"
     ]
    }
   ],
   "source": [
    "s1 = set([3, 8, 1, 6, 0, 8, 4])\n",
    "\n",
    "print(\"length of set: \", len(s1))\n",
    "print(\"max element in set: \", max(s1))\n",
    "print(\"min element in list: \",min(s1))\n",
    "print(\"Sum of element in list: \",sum(s1))\n"
   ]
  },
  {
   "cell_type": "markdown",
   "id": "8fe244da",
   "metadata": {},
   "source": [
    "**Like Lists and Tuples, you can apply `in` and `not in` membership operators on Sets**"
   ]
  },
  {
   "cell_type": "code",
   "execution_count": 86,
   "id": "7e77745e",
   "metadata": {},
   "outputs": [
    {
     "name": "stdout",
     "output_type": "stream",
     "text": [
      "False\n",
      "True\n",
      "True\n"
     ]
    }
   ],
   "source": [
    "s1 = set([3, 8, 1, 6, 0, 8, 4])\n",
    "\n",
    "rv1 = 9 in s1\n",
    "print(rv1)\n",
    "\n",
    "rv2 = 9 not in s1\n",
    "print(rv2)\n",
    "\n",
    "\n",
    "s2 = set([\"XYZ\", \"ABC\", \"MNO\", \"KIRAN\"])\n",
    "rv3 = \"KIRAN\" in s2\n",
    "print(rv3)"
   ]
  },
  {
   "cell_type": "markdown",
   "id": "4042e6cf",
   "metadata": {},
   "source": [
    "**Comparing Objects and Values**"
   ]
  },
  {
   "cell_type": "code",
   "execution_count": 87,
   "id": "cd348f7b",
   "metadata": {},
   "outputs": [
    {
     "name": "stdout",
     "output_type": "stream",
     "text": [
      "2399388572400 2399388572400\n",
      "True\n",
      "True\n"
     ]
    }
   ],
   "source": [
    "#In case of strings, both variables str1 and str2 refers to the same memory location containing string object 'hello'\n",
    "str1 = 'hello'\n",
    "str2 = 'hello'\n",
    "print(id(str1), id(str2))\n",
    "\n",
    "print (str1 is str2)  # is operator is checking the memory address (ID) of two strings\n",
    "print (str1 == str2)  # == operator is checking the contents of two strings"
   ]
  },
  {
   "cell_type": "code",
   "execution_count": 88,
   "id": "7263cecb",
   "metadata": {},
   "outputs": [
    {
     "name": "stdout",
     "output_type": "stream",
     "text": [
      "2399410080000 2399410079776\n",
      "False\n",
      "True\n"
     ]
    }
   ],
   "source": [
    "#In case of sets, both t1 and t2 refers to two different objects in the memory having same values\n",
    "s1 = set([1, 2, 3])\n",
    "s2 = set([1, 2, 3])\n",
    "print(id(s1), id(s2))\n",
    "\n",
    "print (s1 is s2)   # is operator is checking the memory address (ID) of two sets\n",
    "print (s1 == s2)   # == operator is checking the contents of two sets element by element"
   ]
  },
  {
   "cell_type": "markdown",
   "id": "ff517f2e",
   "metadata": {},
   "source": [
    "## 11. Special Operations  related to Sets"
   ]
  },
  {
   "cell_type": "markdown",
   "id": "57a57000",
   "metadata": {},
   "source": [
    "### a. Union of sets\n",
    "- A `s1.union(s2)` method or `s1 | s2`, returns a new set containing all values that are in s1, or s2, or both"
   ]
  },
  {
   "cell_type": "code",
   "execution_count": null,
   "id": "d20c59a0",
   "metadata": {},
   "outputs": [],
   "source": [
    "s1 = set()\n",
    "s2 = set()\n",
    "#help(s1 | s2)\n",
    "help(s1.union)"
   ]
  },
  {
   "cell_type": "code",
   "execution_count": 89,
   "id": "5ba0e04b",
   "metadata": {},
   "outputs": [
    {
     "name": "stdout",
     "output_type": "stream",
     "text": [
      "set1:  {'kiran', 'khursheed'}\n",
      "set2:  {'shifa', 'aaraizz', 'abdul ahad'}\n",
      "set1 | set2:  {'shifa', 'aaraizz', 'kiran', 'khursheed', 'abdul ahad'}\n"
     ]
    }
   ],
   "source": [
    "set1 = {'kiran', 'khursheed'}\n",
    "set2 = {'aaraizz', 'shifa', 'abdul ahad'}\n",
    "\n",
    "set3 = set1 | set2\n",
    "set3 = set1.union(set2)\n",
    "\n",
    "print(\"set1: \", set1)\n",
    "print(\"set2: \", set2)\n",
    "print(\"set1 | set2: \", set3)"
   ]
  },
  {
   "cell_type": "markdown",
   "id": "8ea5d8f3",
   "metadata": {},
   "source": [
    "### b. Intersection of sets\n",
    "- A `s1.intersection(s2)` method or `s1 & s2`, returns a new set containing all values that are common in in s1 and s2"
   ]
  },
  {
   "cell_type": "code",
   "execution_count": null,
   "id": "4b2dd4fa",
   "metadata": {},
   "outputs": [],
   "source": [
    "s1 = set()\n",
    "help(s1.intersection)"
   ]
  },
  {
   "cell_type": "code",
   "execution_count": 90,
   "id": "596c6b8d",
   "metadata": {
    "scrolled": true
   },
   "outputs": [
    {
     "name": "stdout",
     "output_type": "stream",
     "text": [
      "set1:  {'kiran', 'khursheed'}\n",
      "set2:  {'aaraiz', 'abdul ahad', 'shifa'}\n",
      "set1 & set2:  set()\n"
     ]
    }
   ],
   "source": [
    "set1 = {'kiran', 'khursheed'}\n",
    "set2 = {'aaraiz', 'shifa', 'abdul ahad'}\n",
    "\n",
    "set3 = set1 & set2\n",
    "set4 = set1.intersection(set2)\n",
    "\n",
    "print(\"set1: \", set1)\n",
    "print(\"set2: \", set2)\n",
    "print(\"set1 & set2: \", set4)\n"
   ]
  },
  {
   "cell_type": "markdown",
   "id": "d9a87205",
   "metadata": {},
   "source": [
    "### c. Difference of sets\n",
    "- A `s1.difference(s2)` method or `s1 - s2`, returns a new set containing all values of s1 that are not there in s2"
   ]
  },
  {
   "cell_type": "code",
   "execution_count": 91,
   "id": "bd0fef44",
   "metadata": {},
   "outputs": [
    {
     "name": "stdout",
     "output_type": "stream",
     "text": [
      "Help on built-in function difference:\n",
      "\n",
      "difference(...) method of builtins.set instance\n",
      "    Return the difference of two or more sets as a new set.\n",
      "    \n",
      "    (i.e. all elements that are in this set but not the others.)\n",
      "\n"
     ]
    }
   ],
   "source": [
    "s1 = set()\n",
    "help(s1.difference)"
   ]
  },
  {
   "cell_type": "code",
   "execution_count": 92,
   "id": "d8248e80",
   "metadata": {},
   "outputs": [
    {
     "name": "stdout",
     "output_type": "stream",
     "text": [
      "set1:  {'kiran', 'khursheed'}\n",
      "set2:  {'aaraiz', 'abdul ahad', 'shifa'}\n",
      "set3:  {'kiran', 'khursheed'}\n",
      "set1 - set2:  {'kiran', 'khursheed'}\n"
     ]
    }
   ],
   "source": [
    "set1 = {'kiran', 'khursheed'}\n",
    "set2 = {'aaraiz', 'shifa', 'abdul ahad'}\n",
    "\n",
    "set3 = set1 - set2\n",
    "set4 = set1.difference(set2)\n",
    "\n",
    "print(\"set1: \", set1)\n",
    "print(\"set2: \", set2)\n",
    "print(\"set3: \", set3)\n",
    "print(\"set1 - set2: \", set4)"
   ]
  },
  {
   "cell_type": "markdown",
   "id": "733a12c9",
   "metadata": {},
   "source": [
    "### d. Symmetric Difference of sets\n",
    "- A `s1.symmetric_difference(s2)` method or `s1 ^ s2`, returns a new set containing all elements that are in exactly one of the sets, equivalent to `(s1 | s2)  - (s1 & s2)`"
   ]
  },
  {
   "cell_type": "code",
   "execution_count": null,
   "id": "8e3e5779",
   "metadata": {},
   "outputs": [],
   "source": [
    "s1 = set()\n",
    "help(s1.symmetric_difference)"
   ]
  },
  {
   "cell_type": "code",
   "execution_count": 93,
   "id": "a89c59b7",
   "metadata": {},
   "outputs": [
    {
     "name": "stdout",
     "output_type": "stream",
     "text": [
      "set1:  {'kiran', 'khursheed'}\n",
      "set2:  {'kiran', 'aaraiz', 'abdul ahad'}\n",
      "set1 ^ set2:  {'khursheed', 'aaraiz', 'abdul ahad'}\n"
     ]
    }
   ],
   "source": [
    "set1 = {'kiran', 'khursheed'}\n",
    "set2 = {'aaraiz', 'abdul ahad', 'kiran'}\n",
    "\n",
    "set3 = set1 ^ set2\n",
    "set4 = set1.symmetric_difference(set2)\n",
    "\n",
    "print(\"set1: \", set1)\n",
    "print(\"set2: \", set2)\n",
    "print(\"set1 ^ set2: \", set4)"
   ]
  },
  {
   "cell_type": "markdown",
   "id": "96e8b480",
   "metadata": {},
   "source": [
    "### e. Checking Subset\n",
    "- The `s1.issubset(s2)` method or `s1 <= s2`, returns True if s1 is a subset of s2"
   ]
  },
  {
   "cell_type": "code",
   "execution_count": 27,
   "id": "12911ff8",
   "metadata": {},
   "outputs": [
    {
     "name": "stdout",
     "output_type": "stream",
     "text": [
      "Help on built-in function issubset:\n",
      "\n",
      "issubset(...) method of builtins.set instance\n",
      "    Report whether another set contains this set.\n",
      "\n"
     ]
    }
   ],
   "source": [
    "s1 = set()\n",
    "help(s1.issubset)"
   ]
  },
  {
   "cell_type": "code",
   "execution_count": 94,
   "id": "24945626",
   "metadata": {},
   "outputs": [
    {
     "name": "stdout",
     "output_type": "stream",
     "text": [
      "False\n",
      "False\n"
     ]
    }
   ],
   "source": [
    "s1 = {1,2,3,4,5,6,7}\n",
    "s2 = {1,2,3,4}\n",
    "\n",
    "print(s1.issubset(s2))     # is s2 a subset of s1\n",
    "print(s1 <= s2)            # is s2 a subset of s1"
   ]
  },
  {
   "cell_type": "code",
   "execution_count": 95,
   "id": "d2300f21",
   "metadata": {},
   "outputs": [
    {
     "name": "stdout",
     "output_type": "stream",
     "text": [
      "True\n",
      "True\n"
     ]
    }
   ],
   "source": [
    "s1 = {1,2,3,4,5,6,7}\n",
    "s2 = {1,2,3,4}\n",
    "\n",
    "print(s2.issubset(s1))     # is s2 a subset of s1\n",
    "print(s2 <= s1)            # is s2 a subset of s1"
   ]
  },
  {
   "cell_type": "markdown",
   "id": "8f00f73f",
   "metadata": {},
   "source": [
    "### f. Checking Superset\n",
    "- The `s1.issuperset(s2)` method or `s1 >= s2`, returns True if s1 is a superset of s2"
   ]
  },
  {
   "cell_type": "code",
   "execution_count": null,
   "id": "70ba3168",
   "metadata": {},
   "outputs": [],
   "source": [
    "s1 = set()\n",
    "help(s1.issuperset)"
   ]
  },
  {
   "cell_type": "code",
   "execution_count": 96,
   "id": "865d531d",
   "metadata": {},
   "outputs": [
    {
     "name": "stdout",
     "output_type": "stream",
     "text": [
      "True\n",
      "True\n"
     ]
    }
   ],
   "source": [
    "s1 = {1,2,3,4,5,6,7}\n",
    "s2 = {1,2,3,4}\n",
    "\n",
    "print(s1.issuperset(s2)) # is s1 a superset of s2\n",
    "print(s1 >= s2)          # is s1 a superset of s2"
   ]
  },
  {
   "cell_type": "markdown",
   "id": "e306e198",
   "metadata": {},
   "source": [
    "### g. Checking Disjoint\n",
    "- The `s1.isdisjoint(s2)` method, returns True if two sets have a null intersection"
   ]
  },
  {
   "cell_type": "code",
   "execution_count": null,
   "id": "29c30920",
   "metadata": {},
   "outputs": [],
   "source": [
    "s1 = set()\n",
    "help(s1.isdisjoint)"
   ]
  },
  {
   "cell_type": "code",
   "execution_count": 30,
   "id": "0411ca5d",
   "metadata": {},
   "outputs": [
    {
     "name": "stdout",
     "output_type": "stream",
     "text": [
      "False\n",
      "True\n"
     ]
    }
   ],
   "source": [
    "s1 = {1,2,3,4,5,6,7}\n",
    "s2 = {1,2,3,4}\n",
    "print(s1.isdisjoint(s2))\n",
    "\n",
    "# Another example\n",
    "s3 = {1,2,3,4}\n",
    "s4 = {5,6,7,8}\n",
    "print(s3.isdisjoint(s4))\n",
    "\n"
   ]
  },
  {
   "cell_type": "code",
   "execution_count": null,
   "id": "28e36225",
   "metadata": {},
   "outputs": [],
   "source": []
  },
  {
   "cell_type": "code",
   "execution_count": null,
   "id": "74bd99ac",
   "metadata": {},
   "outputs": [],
   "source": []
  }
 ],
 "metadata": {
  "kernelspec": {
   "display_name": "Python 3 (ipykernel)",
   "language": "python",
   "name": "python3"
  },
  "language_info": {
   "codemirror_mode": {
    "name": "ipython",
    "version": 3
   },
   "file_extension": ".py",
   "mimetype": "text/x-python",
   "name": "python",
   "nbconvert_exporter": "python",
   "pygments_lexer": "ipython3",
   "version": "3.9.7"
  }
 },
 "nbformat": 4,
 "nbformat_minor": 5
}
