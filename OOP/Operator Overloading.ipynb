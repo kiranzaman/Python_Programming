{
 "cells": [
  {
   "cell_type": "markdown",
   "id": "0de2962e",
   "metadata": {},
   "source": [
    "---   \n",
    "---   \n",
    "\n",
    "<h1 align=\"center\">ExD</h1>\n",
    "<h1 align=\"center\">Course: Advanced Python Programming Language</h1>\n",
    "\n",
    "\n",
    "---\n",
    "<h3><div align=\"right\">Instructor: Kiran Khursheed</div></h3>    "
   ]
  },
  {
   "cell_type": "markdown",
   "id": "fbf93918",
   "metadata": {},
   "source": [
    "<h1 align=\"center\">Operator Overloading </h1>"
   ]
  },
  {
   "cell_type": "markdown",
   "id": "3c196097",
   "metadata": {},
   "source": [
    "## What is Operator Overloading?\n",
    "\n",
    "\n",
    "#### Think about this:\n",
    "###### You know how + means add numbers, right?\n"
   ]
  },
  {
   "cell_type": "code",
   "execution_count": 6,
   "id": "052f2a6f",
   "metadata": {},
   "outputs": [
    {
     "data": {
      "text/plain": [
       "5"
      ]
     },
     "execution_count": 6,
     "metadata": {},
     "output_type": "execute_result"
    }
   ],
   "source": [
    "2 + 3  # Gives 5\n"
   ]
  },
  {
   "cell_type": "markdown",
   "id": "725a93aa",
   "metadata": {},
   "source": [
    " - But what if you want + to add two objects — like joining two shapes, combining two files, or adding two fractions?\n",
    "\n",
    "That’s operator overloading:\n",
    " - Giving a new meaning to an operator (+, -, *, etc.) for your own objects."
   ]
  },
  {
   "cell_type": "markdown",
   "id": "e212ddf2",
   "metadata": {},
   "source": [
    "### Why Use Composition?\n",
    "You know how to add 2 apples + 3 apples (you get 5 apples). But what if you want to add 2 baskets together, or combine two Lego sets? You give your own rules for what + means for your objects."
   ]
  },
  {
   "cell_type": "markdown",
   "id": "bd16fa3f",
   "metadata": {},
   "source": [
    "#### Example: Operator Overloading in Python"
   ]
  },
  {
   "cell_type": "markdown",
   "id": "0629ae23",
   "metadata": {},
   "source": [
    "Let’s say we have a class Book, and we want to add two books together to get the total number of pages."
   ]
  },
  {
   "cell_type": "markdown",
   "id": "91d82d91",
   "metadata": {},
   "source": [
    "#### Without Operator Overloading:"
   ]
  },
  {
   "cell_type": "code",
   "execution_count": 7,
   "id": "b63b28a9",
   "metadata": {},
   "outputs": [
    {
     "ename": "TypeError",
     "evalue": "unsupported operand type(s) for +: 'Book' and 'Book'",
     "output_type": "error",
     "traceback": [
      "\u001b[1;31m---------------------------------------------------------------------------\u001b[0m",
      "\u001b[1;31mTypeError\u001b[0m                                 Traceback (most recent call last)",
      "\u001b[1;32m~\\AppData\\Local\\Temp/ipykernel_24700/42759610.py\u001b[0m in \u001b[0;36m<module>\u001b[1;34m\u001b[0m\n\u001b[0;32m      8\u001b[0m \u001b[1;33m\u001b[0m\u001b[0m\n\u001b[0;32m      9\u001b[0m \u001b[1;31m# This will give an error:\u001b[0m\u001b[1;33m\u001b[0m\u001b[1;33m\u001b[0m\u001b[0m\n\u001b[1;32m---> 10\u001b[1;33m \u001b[0mtotal\u001b[0m \u001b[1;33m=\u001b[0m \u001b[0mbook1\u001b[0m \u001b[1;33m+\u001b[0m \u001b[0mbook2\u001b[0m\u001b[1;33m\u001b[0m\u001b[1;33m\u001b[0m\u001b[0m\n\u001b[0m",
      "\u001b[1;31mTypeError\u001b[0m: unsupported operand type(s) for +: 'Book' and 'Book'"
     ]
    }
   ],
   "source": [
    "class Book:\n",
    "    def __init__(self, title, pages):\n",
    "        self.title = title\n",
    "        self.pages = pages\n",
    "\n",
    "book1 = Book(\"Harry Potter\", 300)\n",
    "book2 = Book(\"Percy Jackson\", 250)\n",
    "\n",
    "# This will give an error:\n",
    "total = book1 + book2\n"
   ]
  },
  {
   "cell_type": "markdown",
   "id": "e7585a08",
   "metadata": {},
   "source": [
    "#### With Operator Overloading: (__add__)"
   ]
  },
  {
   "cell_type": "code",
   "execution_count": 8,
   "id": "343efc44",
   "metadata": {},
   "outputs": [
    {
     "name": "stdout",
     "output_type": "stream",
     "text": [
      "550\n"
     ]
    }
   ],
   "source": [
    "class Book:\n",
    "    def __init__(self, title, pages):\n",
    "        self.title = title\n",
    "        self.pages = pages\n",
    "\n",
    "    def __add__(self, other):\n",
    "        return self.pages + other.pages\n",
    "\n",
    "book1 = Book(\"Harry Potter\", 300)\n",
    "book2 = Book(\"Percy Jackson\", 250)\n",
    "\n",
    "total_pages = book1 + book2  # Calls book1.__add__(book2)\n",
    "print(total_pages)  # 550\n"
   ]
  },
  {
   "cell_type": "markdown",
   "id": "6ec00bb2",
   "metadata": {},
   "source": [
    "### Common Operators You Can Overload\n",
    "\n",
    "| Operator  | Method Name     | Example      |\n",
    "|-----------|-----------------|--------------|\n",
    "| `+`       | `__add__`       | `a + b`      |\n",
    "| `-`       | `__sub__`       | `a - b`      |\n",
    "| `*`       | `__mul__`       | `a * b`      |\n",
    "| `/`       | `__truediv__`   | `a / b`      |\n",
    "| `//`      | `__floordiv__`  | `a // b`     |\n",
    "| `%`       | `__mod__`       | `a % b`      |\n",
    "| `==`      | `__eq__`        | `a == b`     |\n",
    "| `<`       | `__lt__`        | `a < b`      |\n",
    "| `>`       | `__gt__`        | `a > b`      |\n",
    "| `str()`   | `__str__`       | `str(a)`     |\n"
   ]
  },
  {
   "cell_type": "markdown",
   "id": "62ee0d84",
   "metadata": {},
   "source": [
    "Why Use Operator Overloading?\n",
    "\n",
    "- Makes your classes easy to use\n",
    "- Supports intuitive operations (like +, -)\n",
    "- Helps in mathematical models, games, data structures\n",
    "- Improves readability (your code feels like natural math)"
   ]
  },
  {
   "cell_type": "code",
   "execution_count": null,
   "id": "21c379f3",
   "metadata": {},
   "outputs": [],
   "source": []
  }
 ],
 "metadata": {
  "kernelspec": {
   "display_name": "Python 3 (ipykernel)",
   "language": "python",
   "name": "python3"
  },
  "language_info": {
   "codemirror_mode": {
    "name": "ipython",
    "version": 3
   },
   "file_extension": ".py",
   "mimetype": "text/x-python",
   "name": "python",
   "nbconvert_exporter": "python",
   "pygments_lexer": "ipython3",
   "version": "3.9.7"
  }
 },
 "nbformat": 4,
 "nbformat_minor": 5
}
