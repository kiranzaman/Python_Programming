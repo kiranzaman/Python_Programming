{
 "cells": [
  {
   "cell_type": "markdown",
   "id": "0de2962e",
   "metadata": {},
   "source": [
    "---   \n",
    "---   \n",
    "\n",
    "<h1 align=\"center\">ExD</h1>\n",
    "<h1 align=\"center\">Course: Advanced Python Programming Language</h1>\n",
    "\n",
    "\n",
    "---\n",
    "<h3><div align=\"right\">Instructor: Kiran Khursheed</div></h3>    "
   ]
  },
  {
   "cell_type": "markdown",
   "id": "fbf93918",
   "metadata": {},
   "source": [
    "<h1 align=\"center\">Overriding </h1>"
   ]
  },
  {
   "cell_type": "markdown",
   "id": "3c196097",
   "metadata": {},
   "source": [
    "## What is Method Overriding??\n",
    "#### Method overriding is an ability of any object-oriented programming language that allows a subclass or child class to provide a specific implementation of a method that is already provided by one of its super-classes or parent classes. \n",
    "\n",
    "###### Imagine you borrow your dad’s car. Normally, the car works in a certain way. But you want to change something, maybe you want to add neon lights or play loud music when the car starts.\n",
    "   \n",
    "     Even though it’s still your dad’s car, you’re making your own version of it."
   ]
  },
  {
   "cell_type": "markdown",
   "id": "f03af1d4",
   "metadata": {},
   "source": [
    "###### I know what was given to me by my ancestors, but I see the world a little differently. I will keep their wisdom, but I need to adapt it for my own purpose."
   ]
  },
  {
   "cell_type": "markdown",
   "id": "fb44b89b",
   "metadata": {},
   "source": [
    "### Example: Family of Animals"
   ]
  },
  {
   "cell_type": "code",
   "execution_count": null,
   "id": "052f2a6f",
   "metadata": {},
   "outputs": [],
   "source": []
  },
  {
   "cell_type": "code",
   "execution_count": 1,
   "id": "bbef5e92",
   "metadata": {},
   "outputs": [],
   "source": [
    "class Animal:\n",
    "    def move(self):\n",
    "        print(\"Animals move.\")\n",
    "    def eat(self):\n",
    "        print(\"Animals eat.\")\n"
   ]
  },
  {
   "cell_type": "code",
   "execution_count": 2,
   "id": "5b95e9d0",
   "metadata": {},
   "outputs": [],
   "source": [
    "class Dog(Animal):\n",
    "    def move(self):\n",
    "        print(\"Dog moves\")\n"
   ]
  },
  {
   "cell_type": "markdown",
   "id": "6a92b077",
   "metadata": {},
   "source": [
    "<img align=\"center\" width=\"600\" height=\"600\"  src=\"images/overiding.png\" > "
   ]
  },
  {
   "cell_type": "code",
   "execution_count": 3,
   "id": "bdb8c9d5",
   "metadata": {},
   "outputs": [
    {
     "name": "stdout",
     "output_type": "stream",
     "text": [
      "Animals move.\n",
      "Dog moves\n"
     ]
    }
   ],
   "source": [
    "animal = Animal()\n",
    "animal.move()   # This prints: Some generic animal movement.\n",
    "\n",
    "dog = Dog()\n",
    "dog.move()      \n"
   ]
  },
  {
   "cell_type": "markdown",
   "id": "9618d021",
   "metadata": {},
   "source": [
    "### Drawing\n",
    "\n",
    "Let’s say we have a Shape class:"
   ]
  },
  {
   "cell_type": "code",
   "execution_count": 4,
   "id": "42469fed",
   "metadata": {},
   "outputs": [],
   "source": [
    "class Shape:\n",
    "    def draw(self):\n",
    "        print(\"Drawing a shape.\")\n"
   ]
  },
  {
   "cell_type": "code",
   "execution_count": 5,
   "id": "17368eb7",
   "metadata": {},
   "outputs": [],
   "source": [
    "class Circle(Shape):\n",
    "    def draw(self):\n",
    "        print(\"Drawing a circle.\")\n"
   ]
  },
  {
   "cell_type": "code",
   "execution_count": 6,
   "id": "dd04eb86",
   "metadata": {},
   "outputs": [
    {
     "name": "stdout",
     "output_type": "stream",
     "text": [
      "Drawing a shape.\n",
      "Drawing a circle.\n"
     ]
    }
   ],
   "source": [
    "shape1 = Shape()\n",
    "shape1.draw()   # Drawing a shape.\n",
    "\n",
    "circle1 = Circle()\n",
    "circle1.draw()  # Drawing a circle.\n"
   ]
  },
  {
   "cell_type": "markdown",
   "id": "fd949469",
   "metadata": {},
   "source": [
    "### Why Use Overriding?\n",
    "\n",
    "   - You can customize behavior in child classes.\n",
    "   - You can build specialized classes without starting from scratch.\n",
    "   - You follow the DRY rule (Don’t Repeat Yourself) by reusing code."
   ]
  },
  {
   "cell_type": "code",
   "execution_count": null,
   "id": "96a991af",
   "metadata": {},
   "outputs": [],
   "source": []
  },
  {
   "cell_type": "markdown",
   "id": "e917a1a7",
   "metadata": {},
   "source": [
    "##### Create a class Employee with a method calculate_salary() that prints a base salary of 50,000.\n",
    "\n",
    "###### Create subclasses:\n",
    "\n",
    "  - Manager that overrides calculate_salary() to add 200,000 to the base salary.\n",
    "\n",
    "  - Developer that overrides calculate_salary() to add 100,000 to the base salary.\n",
    "\n",
    "Write code to:\n",
    " - Create objects for Manager and Developer.\n",
    " - Call calculate_salary() for each object to display the respective salary."
   ]
  },
  {
   "cell_type": "code",
   "execution_count": null,
   "id": "e24c1771",
   "metadata": {},
   "outputs": [],
   "source": []
  },
  {
   "cell_type": "code",
   "execution_count": null,
   "id": "49dbf34c",
   "metadata": {},
   "outputs": [],
   "source": []
  },
  {
   "cell_type": "code",
   "execution_count": null,
   "id": "4b776816",
   "metadata": {},
   "outputs": [],
   "source": []
  },
  {
   "cell_type": "code",
   "execution_count": null,
   "id": "c42285b9",
   "metadata": {},
   "outputs": [],
   "source": [
    "# Defining parent class \n",
    "class Parent(): \n",
    "    \n",
    "    # Constructor \n",
    "    def __init__(self): \n",
    "        self.value = \"Inside Parent\"\n",
    "        \n",
    "    # Parent's show method \n",
    "    def show(self): \n",
    "        print(self.value) \n",
    "        \n",
    "# Defining child class \n",
    "class Child(Parent): \n",
    "    \n",
    "    # Constructor \n",
    "    def __init__(self): \n",
    "        super().__init__()  # Call parent constructor\n",
    "        self.value = \"Inside Child\"\n",
    "        \n",
    "    # Child's show method \n",
    "    def show(self): \n",
    "        print(self.value) \n",
    "        \n",
    "# Driver's code \n",
    "obj1 = Parent() \n",
    "obj2 = Child() \n",
    "\n",
    "obj1.show()  # Should print \"Inside Parent\"\n",
    "obj2.show()  # Should print \"Inside Child\""
   ]
  },
  {
   "cell_type": "code",
   "execution_count": null,
   "id": "6843c523",
   "metadata": {},
   "outputs": [],
   "source": []
  },
  {
   "cell_type": "code",
   "execution_count": null,
   "id": "60319288",
   "metadata": {},
   "outputs": [],
   "source": []
  },
  {
   "cell_type": "code",
   "execution_count": null,
   "id": "ff38d793",
   "metadata": {},
   "outputs": [],
   "source": []
  },
  {
   "cell_type": "code",
   "execution_count": null,
   "id": "c1a4d629",
   "metadata": {},
   "outputs": [],
   "source": []
  },
  {
   "cell_type": "code",
   "execution_count": null,
   "id": "db973b43",
   "metadata": {},
   "outputs": [],
   "source": []
  },
  {
   "cell_type": "code",
   "execution_count": null,
   "id": "393ea97c",
   "metadata": {},
   "outputs": [],
   "source": []
  }
 ],
 "metadata": {
  "kernelspec": {
   "display_name": "Python 3 (ipykernel)",
   "language": "python",
   "name": "python3"
  },
  "language_info": {
   "codemirror_mode": {
    "name": "ipython",
    "version": 3
   },
   "file_extension": ".py",
   "mimetype": "text/x-python",
   "name": "python",
   "nbconvert_exporter": "python",
   "pygments_lexer": "ipython3",
   "version": "3.9.7"
  }
 },
 "nbformat": 4,
 "nbformat_minor": 5
}
