{
 "cells": [
  {
   "cell_type": "markdown",
   "id": "0de2962e",
   "metadata": {},
   "source": [
    "---   \n",
    "---   \n",
    "\n",
    "<h1 align=\"center\">ExD</h1>\n",
    "<h1 align=\"center\">Course: Advanced Python Programming Language</h1>\n",
    "\n",
    "\n",
    "---\n",
    "<h3><div align=\"right\">Instructor: Kiran Khursheed</div></h3>    "
   ]
  },
  {
   "cell_type": "markdown",
   "id": "fbf93918",
   "metadata": {},
   "source": [
    "<h1 align=\"center\">Composition </h1>"
   ]
  },
  {
   "cell_type": "markdown",
   "id": "3c196097",
   "metadata": {},
   "source": [
    "## What is Composition ??\n",
    "#### Imagine you have a toys \n",
    "###### You have a toy robot. The robot has different parts, like:\n",
    "\n",
    "- A head that can talk\n",
    "\n",
    "- Arms that can move\n",
    "\n",
    "- Wheels that help it roll\n",
    "\n",
    "What is Composition?\n",
    "\n",
    "##### Composition means building something by putting smaller pieces together. In Python, it means a class contains objects of other classes as parts, instead of inheriting from them."
   ]
  },
  {
   "cell_type": "markdown",
   "id": "5a84c19e",
   "metadata": {},
   "source": [
    "#### Composition is a design principle where a class contains objects of other classes to achieve its functionality.\n",
    "\n",
    "Instead of saying \"is a\" (inheritance), we say \"has a\" (composition).\n",
    "For example:\n",
    "\n",
    "- A Car has an Engine.\n",
    "\n",
    "- A Computer has a CPU, Monitor, Keyboard.\n",
    "\n",
    "- A School has Students and Teachers."
   ]
  },
  {
   "cell_type": "markdown",
   "id": "fb44b89b",
   "metadata": {},
   "source": [
    "### Why Use Composition?\n",
    "\n",
    "- Flexible: You can swap out parts without changing the whole.\n",
    "- Avoids tight coupling: Components work independently.\n",
    "- You can reuse parts in many different places.\n",
    "- It helps keep things simple by dividing big problems into small parts.\n",
    "- Better than inheritance when:\n",
    "\n",
    "    You don’t need an “is-a” relationship.\n",
    "\n",
    "    You want to reuse behavior across multiple classes.\n",
    "\n",
    "    You want modular design (LEGO-like), you can build many things by snapping together blocks."
   ]
  },
  {
   "cell_type": "code",
   "execution_count": 2,
   "id": "bbef5e92",
   "metadata": {},
   "outputs": [
    {
     "name": "stdout",
     "output_type": "stream",
     "text": [
      "Car is starting...\n",
      "Engine started!\n"
     ]
    }
   ],
   "source": [
    "class Engine:\n",
    "    def start(self):\n",
    "        print(\"Engine started!\")\n",
    "\n",
    "class Car:\n",
    "    def __init__(self):\n",
    "        self.engine = Engine()  # Car HAS an Engine\n",
    "\n",
    "    def start(self):\n",
    "        print(\"Car is starting...\")\n",
    "        self.engine.start()\n",
    "\n",
    "my_car = Car()\n",
    "my_car.start()\n"
   ]
  },
  {
   "cell_type": "markdown",
   "id": "e212ddf2",
   "metadata": {},
   "source": []
  },
  {
   "cell_type": "code",
   "execution_count": null,
   "id": "625bad12",
   "metadata": {},
   "outputs": [],
   "source": []
  },
  {
   "cell_type": "markdown",
   "id": "c079b825",
   "metadata": {},
   "source": [
    "#### Composition in Real-World Systems\n",
    "- System:\n",
    "    \"Has-a\" Relationship\n",
    "- Phone:\n",
    "    Has a Screen, Battery, Camera\n",
    "- Laptop:\n",
    "    Has a CPU, GPU, RAM\n",
    "- Website:\n",
    "    Has a Frontend, Backend, Database\n",
    "- Human Body:\n",
    "    Has a Heart, Lungs, Brain"
   ]
  },
  {
   "cell_type": "code",
   "execution_count": null,
   "id": "aab2b3c4",
   "metadata": {},
   "outputs": [],
   "source": []
  },
  {
   "cell_type": "markdown",
   "id": "076d9da6",
   "metadata": {},
   "source": [
    "### When to Use Composition?\n",
    "\n",
    "- When you want flexibility:\n",
    "\n",
    "    - For example, a Car might have different Engine types — Petrol, Electric, Hybrid.\n",
    "          - When the relationship is \"has a\" rather than \"is a\".\n",
    "          - When you need to combine multiple behaviors."
   ]
  },
  {
   "cell_type": "code",
   "execution_count": 3,
   "id": "a40a44b9",
   "metadata": {},
   "outputs": [
    {
     "name": "stdout",
     "output_type": "stream",
     "text": [
      "Starting Petrol Engine...\n",
      "Starting Electric Engine...\n"
     ]
    }
   ],
   "source": [
    "class PetrolEngine:\n",
    "    def start(self):\n",
    "        print(\"Starting Petrol Engine...\")\n",
    "\n",
    "class ElectricEngine:\n",
    "    def start(self):\n",
    "        print(\"Starting Electric Engine...\")\n",
    "\n",
    "class Car:\n",
    "    def __init__(self, engine):\n",
    "        self.engine = engine  # Injecting engine (composition + polymorphism)\n",
    "\n",
    "    def start(self):\n",
    "        self.engine.start()\n",
    "\n",
    "# Usage\n",
    "car1 = Car(PetrolEngine())\n",
    "car2 = Car(ElectricEngine())\n",
    "\n",
    "car1.start()  # Starting Petrol Engine...\n",
    "car2.start()  # Starting Electric Engine...\n"
   ]
  },
  {
   "cell_type": "markdown",
   "id": "e9c10c9d",
   "metadata": {},
   "source": [
    "This is composition + polymorphism:\n",
    "\n",
    "   - Car has-a Engine (composition)\n",
    "\n",
    "   - Engine behavior varies based on the type (polymorphism)"
   ]
  },
  {
   "cell_type": "code",
   "execution_count": null,
   "id": "7bfd012b",
   "metadata": {},
   "outputs": [],
   "source": []
  }
 ],
 "metadata": {
  "kernelspec": {
   "display_name": "Python 3 (ipykernel)",
   "language": "python",
   "name": "python3"
  },
  "language_info": {
   "codemirror_mode": {
    "name": "ipython",
    "version": 3
   },
   "file_extension": ".py",
   "mimetype": "text/x-python",
   "name": "python",
   "nbconvert_exporter": "python",
   "pygments_lexer": "ipython3",
   "version": "3.9.7"
  }
 },
 "nbformat": 4,
 "nbformat_minor": 5
}
