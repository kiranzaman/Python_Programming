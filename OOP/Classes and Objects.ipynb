{
 "cells": [
  {
   "cell_type": "markdown",
   "id": "0de2962e",
   "metadata": {},
   "source": [
    "---   \n",
    "---   \n",
    "\n",
    "<h1 align=\"center\">ExD</h1>\n",
    "<h1 align=\"center\">Course: Advanced Python Programming Language</h1>\n",
    "\n",
    "\n",
    "---\n",
    "<h3><div align=\"right\">Instructor: Kiran Khursheed</div></h3>    "
   ]
  },
  {
   "cell_type": "markdown",
   "id": "fbf93918",
   "metadata": {},
   "source": [
    "<h1 align=\"center\">Classes and Objects</h1>"
   ]
  },
  {
   "cell_type": "markdown",
   "id": "3c196097",
   "metadata": {},
   "source": [
    "## What are Classes and Objects?\n",
    "#### Class: A blueprint for creating objects. It defines the properties (attributes) and behaviors (methods) of an object.\n",
    "#### Object: An instance of a class.\n",
    "\n",
    "###### Example Analogy:\n",
    "\n",
    "    Class: \"Car\" (blueprint)\n",
    "\n",
    "    Object: A specific car like a \"Red Tesla Model S\" (instance)"
   ]
  },
  {
   "cell_type": "markdown",
   "id": "2e1b2cee",
   "metadata": {},
   "source": [
    "### Creating a Class in Python"
   ]
  },
  {
   "cell_type": "code",
   "execution_count": 2,
   "id": "cc8db4cb",
   "metadata": {},
   "outputs": [],
   "source": [
    "class ClassName:\n",
    "    # Class attributes and methods here\n",
    "    pass\n"
   ]
  },
  {
   "cell_type": "code",
   "execution_count": 3,
   "id": "f80937c2",
   "metadata": {},
   "outputs": [],
   "source": [
    "class Car:\n",
    "    def __init__(self, brand, color):\n",
    "        self.brand = brand\n",
    "        self.color = color\n"
   ]
  },
  {
   "cell_type": "markdown",
   "id": "57077e62",
   "metadata": {},
   "source": [
    "### Creating Objects (Instances)"
   ]
  },
  {
   "cell_type": "code",
   "execution_count": 4,
   "id": "05c8c626",
   "metadata": {},
   "outputs": [
    {
     "name": "stdout",
     "output_type": "stream",
     "text": [
      "Tesla\n"
     ]
    }
   ],
   "source": [
    "my_car = Car(\"Tesla\", \"Red\")\n",
    "print(my_car.brand)  # Output: Tesla\n"
   ]
  },
  {
   "cell_type": "markdown",
   "id": "b9f778a4",
   "metadata": {},
   "source": [
    "### The __init__ Method\n",
    "\n",
    "    The constructor method.\n",
    "\n",
    "    Used to initialize object properties."
   ]
  },
  {
   "cell_type": "code",
   "execution_count": 6,
   "id": "69386d9a",
   "metadata": {},
   "outputs": [
    {
     "name": "stdout",
     "output_type": "stream",
     "text": [
      "Kiran 79\n"
     ]
    }
   ],
   "source": [
    "class Student:\n",
    "    def __init__(self, name, age):\n",
    "        self.name = name\n",
    "        self.age = age\n",
    "\n",
    "s1 = Student(\"Kiran\", 79)\n",
    "print(s1.name, s1.age)\n"
   ]
  },
  {
   "cell_type": "markdown",
   "id": "f8cf6629",
   "metadata": {},
   "source": [
    "### What is a Constructor?\n",
    "\n",
    "Imagine you are building toys in a toy factory. Every toy has a name, a color, and a shape. But when a new toy is made, you need to tell the machine what color and what shape it should have, right?\n",
    "\n",
    "The constructor is like a special machine that helps create the toy.\n",
    "\n",
    "In Python, the constructor is a special function inside a class that helps us build objects.\n",
    "\n",
    "This special function is called __init__ (like \"initiate\" or \"start\")."
   ]
  },
  {
   "cell_type": "markdown",
   "id": "4198e8d8",
   "metadata": {},
   "source": [
    "###  Example: Building a Toy"
   ]
  },
  {
   "cell_type": "code",
   "execution_count": 13,
   "id": "7d19c7b6",
   "metadata": {},
   "outputs": [],
   "source": [
    "class Toy:\n",
    "    def __init__(self, name, color):\n",
    "        self.name = name\n",
    "        self.color = color\n",
    "teddy = Toy(\"Teddy Bear\", \"Brown\")\n"
   ]
  },
  {
   "cell_type": "markdown",
   "id": "85a6f563",
   "metadata": {},
   "source": [
    "   - def __init__(self, name, color):\tThis is the constructor (a special function that starts the object).\n",
    "   - self.name = name\tWe are saying, this toy’s name will be the name we give it.\n",
    "   - self.color = color\tSame for color – the toy's color will be what we give it.\n",
    "   - self\tRefers to the toy being built. (like \"this toy\")"
   ]
  },
  {
   "cell_type": "markdown",
   "id": "c24f85db",
   "metadata": {},
   "source": [
    "### Instance vs. Class Attributes\n",
    "\n",
    "#### Instance Attributes:\n",
    "\n",
    "   - Belong to an object.\n",
    "\n",
    "   - Unique to each object.\n",
    "\n",
    "#### Class Attributes:\n",
    "\n",
    "   - Shared across all instances.\n",
    "\n",
    "   - Declared inside the class but outside methods."
   ]
  },
  {
   "cell_type": "code",
   "execution_count": 7,
   "id": "ae2505d6",
   "metadata": {},
   "outputs": [],
   "source": [
    "class Dog:\n",
    "    species = \"Canine\"  # Class attribute\n",
    "\n",
    "    def __init__(self, name):\n",
    "        self.name = name  # Instance attribute\n"
   ]
  },
  {
   "cell_type": "markdown",
   "id": "d6b81f19",
   "metadata": {},
   "source": [
    "### Methods in Classes\n",
    "\n",
    "   - Functions defined inside a class.\n",
    "\n",
    "   - Can access/modify object properties."
   ]
  },
  {
   "cell_type": "code",
   "execution_count": 8,
   "id": "b203e3d1",
   "metadata": {},
   "outputs": [],
   "source": [
    "class Circle:\n",
    "    def __init__(self, radius):\n",
    "        self.radius = radius\n",
    "\n",
    "    def area(self):\n",
    "        return 3.14 * self.radius ** 2\n"
   ]
  },
  {
   "cell_type": "markdown",
   "id": "7bd6a17f",
   "metadata": {},
   "source": [
    "###  The self Keyword\n",
    "\n",
    "   - Refers to the current object instance.\n",
    "\n",
    "   - Must be the first parameter of any method in a class."
   ]
  },
  {
   "cell_type": "code",
   "execution_count": 9,
   "id": "2ce429ce",
   "metadata": {},
   "outputs": [],
   "source": [
    "class Book:\n",
    "    def __init__(self, title):\n",
    "        self.title = title\n"
   ]
  },
  {
   "cell_type": "markdown",
   "id": "cb7e36ed",
   "metadata": {},
   "source": [
    "### Example: A Complete Class"
   ]
  },
  {
   "cell_type": "code",
   "execution_count": 10,
   "id": "fdb531f0",
   "metadata": {},
   "outputs": [],
   "source": [
    "class BankAccount:\n",
    "    def __init__(self, owner, balance=0):\n",
    "        self.owner = owner\n",
    "        self.balance = balance\n",
    "\n",
    "    def deposit(self, amount):\n",
    "        self.balance += amount\n",
    "        return self.balance\n",
    "\n",
    "    def withdraw(self, amount):\n",
    "        if amount > self.balance:\n",
    "            return \"Insufficient funds\"\n",
    "        else:\n",
    "            self.balance -= amount\n",
    "            return self.balance\n"
   ]
  },
  {
   "cell_type": "markdown",
   "id": "e6cd09ea",
   "metadata": {},
   "source": [
    "### __str__ Method\n",
    "   - Makes objects readable in print statements.\n",
    "\n",
    "   - Returns a string representation of the object."
   ]
  },
  {
   "cell_type": "code",
   "execution_count": 10,
   "id": "58eafe07",
   "metadata": {},
   "outputs": [
    {
     "name": "stdout",
     "output_type": "stream",
     "text": [
      "Person: Kiran\n"
     ]
    }
   ],
   "source": [
    "class Person:\n",
    "    def __init__(self, name):\n",
    "        self.name = name\n",
    "\n",
    "    def __str__(self):\n",
    "        return f\"Person: {self.name}\"\n",
    "\n",
    "p1 = Person(\"Kiran\")\n",
    "print(p1)  # Output: Person: Kiran"
   ]
  },
  {
   "cell_type": "markdown",
   "id": "2591f0ee",
   "metadata": {},
   "source": [
    "### Practice\n",
    "\n",
    "   - Problem 1: Create a Student class with name, roll_no, and a method display() that prints details.\n",
    "   - Problem 2: Create a Rectangle class with length and width. Add methods for area() and perimeter()."
   ]
  },
  {
   "cell_type": "code",
   "execution_count": null,
   "id": "32c1856b",
   "metadata": {},
   "outputs": [],
   "source": []
  }
 ],
 "metadata": {
  "kernelspec": {
   "display_name": "Python 3 (ipykernel)",
   "language": "python",
   "name": "python3"
  },
  "language_info": {
   "codemirror_mode": {
    "name": "ipython",
    "version": 3
   },
   "file_extension": ".py",
   "mimetype": "text/x-python",
   "name": "python",
   "nbconvert_exporter": "python",
   "pygments_lexer": "ipython3",
   "version": "3.9.7"
  }
 },
 "nbformat": 4,
 "nbformat_minor": 5
}
