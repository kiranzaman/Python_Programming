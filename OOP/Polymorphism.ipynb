{
 "cells": [
  {
   "cell_type": "markdown",
   "id": "0de2962e",
   "metadata": {},
   "source": [
    "---   \n",
    "---   \n",
    "\n",
    "<h1 align=\"center\">ExD</h1>\n",
    "<h1 align=\"center\">Course: Advanced Python Programming Language</h1>\n",
    "\n",
    "\n",
    "---\n",
    "<h3><div align=\"right\">Instructor: Kiran Khursheed</div></h3>    "
   ]
  },
  {
   "cell_type": "markdown",
   "id": "fbf93918",
   "metadata": {},
   "source": [
    "<h1 align=\"center\">Polymorphism </h1>"
   ]
  },
  {
   "cell_type": "code",
   "execution_count": null,
   "id": "e9614c82",
   "metadata": {},
   "outputs": [],
   "source": []
  },
  {
   "cell_type": "markdown",
   "id": "3c196097",
   "metadata": {},
   "source": [
    "## What is Polymorphism ??\n",
    "#### Imagine you have different toys \n",
    "###### a car, a plane, and a robot. You press a button on each toy, and they do something different:\n",
    "   - The car drives.\n",
    "\n",
    "   - The plane flies.\n",
    "\n",
    "   - The robot walks.\n",
    "\n",
    "But here’s the magic part, Even though they are different, they all have a \"button\" you can press. This means you don’t care which toy it is, you just press the button, and the toy does its thing."
   ]
  },
  {
   "cell_type": "markdown",
   "id": "5a84c19e",
   "metadata": {},
   "source": [
    "In Python, polymorphism works the same way:\n",
    "\n",
    "   - You have different objects (like toys).\n",
    "\n",
    "   - You can call the same method (like the \"button\") on each object.\n",
    "\n",
    "   - Each object knows how to do its own thing."
   ]
  },
  {
   "cell_type": "markdown",
   "id": "fb44b89b",
   "metadata": {},
   "source": [
    "### Example: Family of Toys"
   ]
  },
  {
   "cell_type": "code",
   "execution_count": null,
   "id": "052f2a6f",
   "metadata": {},
   "outputs": [],
   "source": []
  },
  {
   "cell_type": "code",
   "execution_count": 6,
   "id": "bbef5e92",
   "metadata": {},
   "outputs": [
    {
     "name": "stdout",
     "output_type": "stream",
     "text": [
      "The car is driving.\n",
      "The plane is flying.\n",
      "The robot is walking.\n"
     ]
    }
   ],
   "source": [
    "class Car:\n",
    "    def move(self):\n",
    "        print(\"The car is driving.\")\n",
    "\n",
    "class Plane:\n",
    "    def move(self):\n",
    "        print(\"The plane is flying.\")\n",
    "\n",
    "class Robot:\n",
    "    def move(self):\n",
    "        print(\"The robot is walking.\")\n",
    "\n",
    "# A function that works with any object that has a 'move' method\n",
    "def start_moving(thing):\n",
    "    thing.move()\n",
    "\n",
    "car = Car()\n",
    "plane = Plane()\n",
    "robot = Robot()\n",
    "\n",
    "start_moving(car)   # The car is driving.\n",
    "start_moving(plane) # The plane is flying.\n",
    "start_moving(robot) # The robot is walking.\n"
   ]
  },
  {
   "cell_type": "markdown",
   "id": "ba32b3c9",
   "metadata": {},
   "source": [
    "### Benefits of Polymorphism\n",
    "   - Code Reusability & Flexibility\n",
    "   - Simplifies Code Maintenance\n",
    "   - Extensibility\n",
    "   - Supports Dynamic Behavior"
   ]
  },
  {
   "cell_type": "markdown",
   "id": "d60884fd",
   "metadata": {},
   "source": [
    "### GUI Toolkits (e.g., Tkinter, PyQt)\n",
    "##### In GUI apps, different UI elements like buttons, text fields, sliders, all have a method like .draw() or .render().\n",
    " - The framework calls the same method on each widget, but each widget draws itself differently."
   ]
  },
  {
   "cell_type": "code",
   "execution_count": 7,
   "id": "0d661c7e",
   "metadata": {},
   "outputs": [
    {
     "name": "stdout",
     "output_type": "stream",
     "text": [
      "Render a button\n",
      "Render a text field\n"
     ]
    }
   ],
   "source": [
    "class Button:\n",
    "    def render(self):\n",
    "        print(\"Render a button\")\n",
    "\n",
    "class TextField:\n",
    "    def render(self):\n",
    "        print(\"Render a text field\")\n",
    "\n",
    "def render_ui_element(element):\n",
    "    element.render() \n",
    "\n",
    "render_ui_element(Button())\n",
    "render_ui_element(TextField())\n"
   ]
  },
  {
   "cell_type": "code",
   "execution_count": null,
   "id": "67e51801",
   "metadata": {},
   "outputs": [],
   "source": []
  },
  {
   "cell_type": "markdown",
   "id": "8242aecc",
   "metadata": {},
   "source": [
    "### How is it different from Polymorphism\n",
    "\n",
    " - Overriding is redefining a parent class method in a subclass\n",
    " - Focuses on changing behavior in a subclass\n",
    " - Happens between parent and child class\n",
    " - Subclass customizes inherited behavior\n",
    " - Modify inherited method behavior\n",
    "-------------------\n",
    " - Polymorphism is using the same method name on different classes\n",
    " - Focuses on using uniform interface for different types\n",
    " - Happens between across different classes (not necessarily related)\n",
    " - Function accepts any object with expected method\n",
    " - Achieve flexibility and extensibility\n",
    " \n",
    "### Summary:\n",
    "\n",
    " - Overriding is how a subclass changes behavior of a method it inherits.\n",
    " - Polymorphism is using methods with the same name from different classes, enabling flexible code."
   ]
  },
  {
   "cell_type": "code",
   "execution_count": null,
   "id": "cec9df1f",
   "metadata": {},
   "outputs": [],
   "source": []
  },
  {
   "cell_type": "code",
   "execution_count": 3,
   "id": "db1a718a",
   "metadata": {},
   "outputs": [
    {
     "name": "stdout",
     "output_type": "stream",
     "text": [
      "Bark\n",
      "Meow\n",
      "Some generic animal sound\n",
      "Bark\n",
      "Meow\n",
      "Some generic animal sound\n"
     ]
    }
   ],
   "source": [
    "# Parent class\n",
    "class Animal:\n",
    "    def sound(self):\n",
    "        print(\"Some generic animal sound\")\n",
    "\n",
    "# Child classes override the 'sound' method\n",
    "class Dog(Animal):\n",
    "    def sound(self):          # Overriding\n",
    "        print(\"Bark\")\n",
    "\n",
    "class Cat(Animal):\n",
    "    def sound(self):          # Overriding\n",
    "        print(\"Meow\")\n",
    "\n",
    "# Function that demonstrates polymorphism\n",
    "def make_sound(animal):\n",
    "    animal.sound()            # Polymorphism: same method call on different objects\n",
    "\n",
    "# Test\n",
    "dog = Dog()\n",
    "cat = Cat()\n",
    "generic = Animal()\n",
    "\n",
    "make_sound(dog)      # Bark  (Dog's overridden method)\n",
    "make_sound(cat)      # Meow  (Cat's overridden method)\n",
    "make_sound(generic)  # Some generic animal sound  (Parent method)\n",
    "# Parent class\n",
    "class Animal:\n",
    "    def sound(self):\n",
    "        print(\"Some generic animal sound\")\n",
    "\n",
    "# Child classes override the 'sound' method\n",
    "class Dog(Animal):\n",
    "    def sound(self):          # Overriding\n",
    "        print(\"Bark\")\n",
    "\n",
    "class Cat(Animal):\n",
    "    def sound(self):          # Overriding\n",
    "        print(\"Meow\")\n",
    "\n",
    "# Polymorpshim \n",
    "def make_sound(animal):\n",
    "    animal.sound()           \n",
    "\n",
    "\n",
    "dog = Dog()\n",
    "cat = Cat()\n",
    "generic = Animal()\n",
    "\n",
    "make_sound(dog)      # Bark  (Dog's overridden method)\n",
    "make_sound(cat)      # Meow  (Cat's overridden method)\n",
    "make_sound(generic)  # Some generic animal sound  (Parent method)\n"
   ]
  },
  {
   "cell_type": "code",
   "execution_count": null,
   "id": "f951b40b",
   "metadata": {},
   "outputs": [],
   "source": []
  },
  {
   "cell_type": "markdown",
   "id": "cde7d819",
   "metadata": {},
   "source": [
    "### Use polymorphism when:\n",
    "\n",
    "- You want to write code that can work with many different types of objects that share a common interface or method name, regardless of their class.\n",
    "\n",
    "- You want to treat different objects uniformly without caring about their specific class type.\n",
    "\n",
    "- You want to write flexible, extensible, and reusable code.\n",
    "\n",
    "### Why:\n",
    "\n",
    "- It lets you call the same method on different objects and get behavior that depends on the object’s actual type.\n",
    "\n",
    "- It simplifies your code by avoiding lots of if or type checks."
   ]
  },
  {
   "cell_type": "markdown",
   "id": "650f7373",
   "metadata": {},
   "source": [
    "##### Practice"
   ]
  },
  {
   "cell_type": "markdown",
   "id": "edf20419",
   "metadata": {},
   "source": [
    "#### Payment System Polymorphism\n",
    "###### 1. Implement Classes\n",
    "Write three classes:\n",
    " - CreditCardPayment\n",
    " - PaypalPayment\n",
    " - CryptoPayment\n",
    " \n",
    "Each class must have a method pay(amount) that prints a unique payment confirmation message including the amount.\n",
    "\n",
    "###### 2. Write a Function\n",
    "Write a function process_payment(payment_method, amount) that calls the pay(amount) method on the given payment object.\n",
    "\n",
    "###### 3. Test Payment Processing\n",
    "Create instances of all three payment classes and call process_payment for each with different amounts.\n",
    "###### 4. Add Validation\n",
    "Modify the pay method in each class so that if amount is less than or equal to zero, it prints \"Invalid amount\" instead of the payment confirmation.\n",
    "###### 5. Add Return Value\n",
    " - Modify each pay method to return True if payment was successful, and False if the amount was invalid.\n",
    " - Modify process_payment to print \"Payment succeeded\" or \"Payment failed\" based on this return value.\n",
    "###### 6. New Payment Method\n",
    "Create a new class BankTransferPayment with a pay(amount) method that behaves similarly to the other payment classes.\n",
    "###### 7. Process Multiple Payments\n",
    "Write a function process_multiple_payments(payments) where payments is a list of tuples (payment_object, amount).\n",
    "- The function should process each payment in the list using process_payment."
   ]
  },
  {
   "cell_type": "code",
   "execution_count": null,
   "id": "10edb669",
   "metadata": {},
   "outputs": [],
   "source": []
  }
 ],
 "metadata": {
  "kernelspec": {
   "display_name": "Python 3 (ipykernel)",
   "language": "python",
   "name": "python3"
  },
  "language_info": {
   "codemirror_mode": {
    "name": "ipython",
    "version": 3
   },
   "file_extension": ".py",
   "mimetype": "text/x-python",
   "name": "python",
   "nbconvert_exporter": "python",
   "pygments_lexer": "ipython3",
   "version": "3.9.7"
  }
 },
 "nbformat": 4,
 "nbformat_minor": 5
}
