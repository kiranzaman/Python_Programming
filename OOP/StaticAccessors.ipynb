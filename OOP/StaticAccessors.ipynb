{
 "cells": [
  {
   "cell_type": "markdown",
   "id": "0de2962e",
   "metadata": {},
   "source": [
    "---   \n",
    "---   \n",
    "\n",
    "<h1 align=\"center\">ExD</h1>\n",
    "<h1 align=\"center\">Course: Advanced Python Programming Language</h1>\n",
    "\n",
    "\n",
    "---\n",
    "<h3><div align=\"right\">Instructor: Kiran Khursheed</div></h3>    "
   ]
  },
  {
   "cell_type": "markdown",
   "id": "fbf93918",
   "metadata": {},
   "source": [
    "<h1 align=\"center\">Static Accessors</h1>"
   ]
  },
  {
   "cell_type": "markdown",
   "id": "828bd59c",
   "metadata": {},
   "source": [
    "## _StaticAccessors.ipynb_\n",
    "#### [Python Static Accessors](https://docs.python.org/3/tutorial/classes.html#)"
   ]
  },
  {
   "cell_type": "markdown",
   "id": "3c196097",
   "metadata": {},
   "source": [
    "## Static Accessors\n",
    "#### Let’s say you have a blueprint (class) for making toy cars .\n",
    "\n",
    "   - Each car you build (object) can honk (method for each car).\n",
    "\n",
    "   - But the blueprint itself might have:\n",
    "\n",
    "        - A stamp (static method) that says \"Made in 2025\".\n",
    "\n",
    "        - Or a special rule (class method) that applies to all cars.\n",
    "\n",
    "These blueprint-level functions are static accessors. They belong to the class, not to a specific car (object)."
   ]
  },
  {
   "cell_type": "markdown",
   "id": "2e1b2cee",
   "metadata": {},
   "source": [
    "### Two Types of Static Accessors"
   ]
  },
  {
   "cell_type": "markdown",
   "id": "424441d4",
   "metadata": {},
   "source": [
    "###  _1.Static Method:_\n",
    "- A method that doesn’t care about the class or the object.\n",
    "\n",
    "- It’s like a utility function inside a class.\n",
    "\n",
    "- Defined with @staticmethod."
   ]
  },
  {
   "cell_type": "code",
   "execution_count": 1,
   "id": "f24e35f3",
   "metadata": {},
   "outputs": [
    {
     "name": "stdout",
     "output_type": "stream",
     "text": [
      "5\n"
     ]
    }
   ],
   "source": [
    "class Math:\n",
    "    @staticmethod\n",
    "    def add(a, b):\n",
    "        return a + b\n",
    "\n",
    "print(Math.add(2, 3))  "
   ]
  },
  {
   "cell_type": "markdown",
   "id": "54a1e544",
   "metadata": {},
   "source": [
    "###   _2.Class Method:_\n",
    "\n",
    " - A method that knows about the class but not about specific objects.\n",
    "\n",
    " - Can modify class-level data.\n",
    "\n",
    " - Defined with @classmethod."
   ]
  },
  {
   "cell_type": "code",
   "execution_count": 44,
   "id": "cc8db4cb",
   "metadata": {},
   "outputs": [
    {
     "name": "stdout",
     "output_type": "stream",
     "text": [
      "Car #1 created!\n",
      "Car #2 created!\n"
     ]
    }
   ],
   "source": [
    "class Car:\n",
    "    cars_made = 0\n",
    "\n",
    "    @classmethod\n",
    "    def make_car(cls):\n",
    "        cls.cars_made += 1\n",
    "        return f\"Car #{cls.cars_made} created!\"\n",
    "\n",
    "print(Car.make_car())  \n",
    "print(Car.make_car()) \n"
   ]
  },
  {
   "cell_type": "markdown",
   "id": "a642b7ce",
   "metadata": {},
   "source": [
    "| Type           | First Argument | Knows About | Used For                                |\n",
    "| -------------- | -------------- | ----------- | --------------------------------------- |\n",
    "| Regular Method | `self`         | Object      | Working with object data                |\n",
    "| Class Method   | `cls`          | Class       | Working with class data                 |\n",
    "| Static Method  | None           | Nothing     | Utility functions (math, helpers, etc.) |\n"
   ]
  },
  {
   "cell_type": "code",
   "execution_count": 43,
   "id": "cb5a3799",
   "metadata": {},
   "outputs": [
    {
     "name": "stdout",
     "output_type": "stream",
     "text": [
      "I am an instance method. I can access objects.\n",
      "I am a class method. My class is <class '__main__.Example'>.\n",
      "I am a static method. I don't know about the class or object.\n"
     ]
    }
   ],
   "source": [
    "class Example:\n",
    "    company = \"Systems Limited\"\n",
    "\n",
    "    def instance_method(self):\n",
    "        print(\"I am an instance method. I can access objects.\")\n",
    "\n",
    "    @classmethod\n",
    "    def class_method(cls):\n",
    "        print(f\"I am a class method. My class is {cls}.\")\n",
    "\n",
    "    @staticmethod\n",
    "    def static_method():\n",
    "        print(\"I am a static method. I don't know about the class or object.\")\n",
    "\n",
    "e = Example()\n",
    "e.instance_method()  \n",
    "e.class_method()    \n",
    "e.static_method()   "
   ]
  },
  {
   "cell_type": "code",
   "execution_count": 3,
   "id": "f80937c2",
   "metadata": {},
   "outputs": [],
   "source": []
  },
  {
   "cell_type": "markdown",
   "id": "57077e62",
   "metadata": {},
   "source": [
    "#### Why Static Accessors?\n",
    "\n",
    "   - Static methods: For utility code related to the class but not needing the class itself (e.g., math functions, data conversion).\n",
    "\n",
    "   - Class methods: When you want to affect the class, not a specific object (e.g., counting instances, factory methods)."
   ]
  },
  {
   "cell_type": "markdown",
   "id": "b9f778a4",
   "metadata": {},
   "source": [
    "## Static Method Use Cases\n",
    "\n",
    "Static methods are utility functions that make sense inside the class but don't need access to class or object data.\n"
   ]
  },
  {
   "cell_type": "markdown",
   "id": "a686ef20",
   "metadata": {},
   "source": [
    "### _Use Case 1: Helper Functions_\n",
    "\n",
    "A class representing a geometry tool:"
   ]
  },
  {
   "cell_type": "code",
   "execution_count": 7,
   "id": "32c1856b",
   "metadata": {},
   "outputs": [
    {
     "name": "stdout",
     "output_type": "stream",
     "text": [
      "78.53981633974483\n"
     ]
    }
   ],
   "source": [
    "import math\n",
    "\n",
    "class Geometry:\n",
    "    @staticmethod\n",
    "    def area_of_circle(radius):\n",
    "        return math.pi * radius ** 2\n",
    "\n",
    "print(Geometry.area_of_circle(5))  \n"
   ]
  },
  {
   "cell_type": "markdown",
   "id": "c1e9a72c",
   "metadata": {},
   "source": [
    "##### The area_of_circle function is related to Geometry but doesn’t depend on class or object state.\n",
    "\n",
    "###### Why Even Use a Class If We Don’t Need It?\n",
    "\n",
    "If area_of_circle() doesn’t depend on any data, why not just write a normal function?\n",
    "This is perfectly fine for small, isolated projects or utility scripts, using just functions is often simpler. \n",
    "\n",
    "###### But in Big Projects, Classes Help You Organize\n",
    "\n",
    "Imagine you’re building a Geometry Toolkit with many related functions:\n",
    "\n",
    "   - area_of_circle()\n",
    "\n",
    "   - area_of_square()\n",
    "\n",
    "   - area_of_triangle()\n",
    "\n",
    "   - perimeter_of_rectangle()\n",
    "\n",
    "   - volume_of_cube()\n",
    "\n",
    "    ...\n",
    "\n",
    "If you write all of them as standalone functions, your code might look like:\n",
    "##### geometry_functions.py\n",
    "> - def area_of_circle(...): ...\n",
    "> - def area_of_square(...): ...\n",
    "> - def volume_of_cube(...): ...\n",
    "> - def perimeter_of_rectangle(...): ...\n",
    "\n",
    "This grows messy quickly.\n",
    "But if you use a class:\n",
    "\n",
    "> -class Geometry:\n",
    "    > - @staticmethod\n",
    "    > - def area_of_circle(...): ...\n",
    "    \n",
    "   > - @staticmethod\n",
    "    > - def area_of_square(...): ...\n",
    "    \n",
    "   > - @staticmethod\n",
    "    > - def volume_of_cube(...): ...\n",
    "\n",
    "It groups related functionality together.\n",
    "It’s easier to find and use:\n",
    "For example:\n",
    " - Geometry.area_of_circle(5)\n",
    "\n",
    "is much cleaner and easier to understand than:\n",
    "\n",
    "- area_of_circle(5)\n",
    "\n",
    "especially when you have hundreds of utility functions."
   ]
  },
  {
   "cell_type": "markdown",
   "id": "0aeb9035",
   "metadata": {},
   "source": [
    "#### Classes Are Like Toolboxes\n",
    "\n",
    "Think of it like a toolbox:\n",
    "\n",
    "- You could just leave all tools scattered in a room (functions everywhere).\n",
    "\n",
    "- But it’s neater to keep geometry tools in the Geometry toolbox,\n",
    "- math tools in a Math toolbox,\n",
    "- string tools in a StringTools toolbox."
   ]
  },
  {
   "cell_type": "markdown",
   "id": "38ddb71f",
   "metadata": {},
   "source": []
  },
  {
   "cell_type": "markdown",
   "id": "41d98c0e",
   "metadata": {},
   "source": [
    "### _Use Case 2: Data Conversion_\n",
    "\n",
    "A class for converting temperature"
   ]
  },
  {
   "cell_type": "code",
   "execution_count": 45,
   "id": "6a640929",
   "metadata": {},
   "outputs": [
    {
     "name": "stdout",
     "output_type": "stream",
     "text": [
      "32.0\n"
     ]
    }
   ],
   "source": [
    "class Temperature:\n",
    "    @staticmethod\n",
    "    def celsius_to_fahrenheit(c):\n",
    "        return (c * 9/5) + 32\n",
    "\n",
    "print(Temperature.celsius_to_fahrenheit(0))  # 32\n"
   ]
  },
  {
   "cell_type": "markdown",
   "id": "efb01fe9",
   "metadata": {},
   "source": [
    "##### This is a utility function but logically fits in the Temperature class."
   ]
  },
  {
   "cell_type": "markdown",
   "id": "2e5766f3",
   "metadata": {},
   "source": [
    "## Class Method Use Cases\n",
    "\n",
    "Class methods are useful when you want to modify the class itself, such as factory methods or class-level state management."
   ]
  },
  {
   "cell_type": "markdown",
   "id": "2f19a0c6",
   "metadata": {},
   "source": [
    "### _Use Case 1: Factory Method_\n",
    "\n",
    "A factory method is a class method that creates objects in different ways.\n",
    "Think of it as a special constructor that gives you multiple ways to make objects.\n",
    "\n",
    "Let’s create a class that can build objects in different ways"
   ]
  },
  {
   "cell_type": "code",
   "execution_count": 46,
   "id": "af1b1eaf",
   "metadata": {},
   "outputs": [
    {
     "name": "stdout",
     "output_type": "stream",
     "text": [
      "Python 101 350\n"
     ]
    }
   ],
   "source": [
    "class Book:\n",
    "    def __init__(self, title, pages):\n",
    "        self.title = title\n",
    "        self.pages = pages\n",
    "\n",
    "    @classmethod\n",
    "    def from_string(cls, info_str):\n",
    "        title, pages = info_str.split(',')\n",
    "        return cls(title.strip(), int(pages.strip()))\n",
    "\n",
    "a = Book('Kiran',777)\n",
    "b = Book.from_string(\"Python 101, 350\")\n",
    "print(b.title, b.pages)  # Python 101 350\n"
   ]
  },
  {
   "cell_type": "markdown",
   "id": "9fc40ea1",
   "metadata": {},
   "source": [
    "##### The from_string method is a class-level constructor. It knows about the class (cls) and can create a new object."
   ]
  },
  {
   "cell_type": "code",
   "execution_count": null,
   "id": "d7d034bc",
   "metadata": {},
   "outputs": [],
   "source": []
  },
  {
   "cell_type": "code",
   "execution_count": null,
   "id": "d066ce84",
   "metadata": {},
   "outputs": [],
   "source": []
  },
  {
   "cell_type": "code",
   "execution_count": 47,
   "id": "d3060672",
   "metadata": {},
   "outputs": [
    {
     "name": "stdout",
     "output_type": "stream",
     "text": [
      "Chocolate Large\n",
      "Vanilla Medium\n",
      "Glazed Medium\n"
     ]
    }
   ],
   "source": [
    "class Donut:\n",
    "    def __init__(self, flavor, size):\n",
    "        self.flavor = flavor\n",
    "        self.size = size\n",
    "\n",
    "    @classmethod\n",
    "    def default_donut(cls):\n",
    "        return cls(\"Vanilla\", \"Medium\")\n",
    "\n",
    "    @classmethod\n",
    "    def from_string(cls, donut_str):\n",
    "        flavor, size = donut_str.split(\", \")\n",
    "        return cls(flavor, size)\n",
    "# Making donuts in different ways\n",
    "d1 = Donut(\"Chocolate\", \"Large\")\n",
    "d2 = Donut.default_donut()\n",
    "d3 = Donut.from_string(\"Glazed, Medium\")\n",
    "\n",
    "print(d1.flavor, d1.size)  \n",
    "print(d2.flavor, d2.size)  \n",
    "print(d3.flavor, d3.size)  \n"
   ]
  },
  {
   "cell_type": "markdown",
   "id": "adb1b40d",
   "metadata": {},
   "source": [
    "When Do We Use Factory Methods?\n",
    "\n",
    "- When you want multiple ways to create objects.\n",
    "- When creating an object from a different format (e.g., string, file).\n",
    "- When you want to provide default objects.\n",
    "- When you want to make it clear and readable how to create an object."
   ]
  },
  {
   "cell_type": "markdown",
   "id": "5acbaac3",
   "metadata": {},
   "source": [
    "### _Use Case 2: Tracking Class State_\n",
    "\n",
    "Let’s count how many instances are created\n"
   ]
  },
  {
   "cell_type": "code",
   "execution_count": 17,
   "id": "a863cfdc",
   "metadata": {},
   "outputs": [
    {
     "name": "stdout",
     "output_type": "stream",
     "text": [
      "2\n"
     ]
    }
   ],
   "source": [
    "class Car:\n",
    "    car_count = 0\n",
    "\n",
    "    def __init__(self):\n",
    "        Car.car_count += 1\n",
    "\n",
    "    @classmethod\n",
    "    def get_car_count(cls):\n",
    "        return cls.car_count\n",
    "\n",
    "c1 = Car()\n",
    "c2 = Car()\n",
    "print(Car.get_car_count())  "
   ]
  },
  {
   "cell_type": "markdown",
   "id": "470a4988",
   "metadata": {},
   "source": [
    "##### get_car_count is a class-level accessor to check the number of cars."
   ]
  },
  {
   "cell_type": "code",
   "execution_count": null,
   "id": "1bc8a2d3",
   "metadata": {},
   "outputs": [],
   "source": []
  },
  {
   "cell_type": "code",
   "execution_count": null,
   "id": "a295f331",
   "metadata": {},
   "outputs": [],
   "source": []
  },
  {
   "cell_type": "markdown",
   "id": "c0405827",
   "metadata": {},
   "source": [
    "### Immutable Objects with Custom Behavior\n",
    "\n",
    "When subclassing immutable types like tuple or str, you must override __new__ because __init__ can’t change the value after creation."
   ]
  },
  {
   "cell_type": "code",
   "execution_count": 50,
   "id": "997a4295",
   "metadata": {},
   "outputs": [
    {
     "name": "stdout",
     "output_type": "stream",
     "text": [
      "NEW\n",
      "INIT\n",
      "HELLO\n"
     ]
    }
   ],
   "source": [
    "class UpperStr(str):\n",
    "    def __init__(self, content):\n",
    "        # Create the string object, but convert content to uppercase first\n",
    "        print(\"INIT\")\n",
    "        #obj = super().__new__(cls, content.upper())\n",
    "        #return obj\n",
    "    def __new__(cls, content):\n",
    "        # Create the string object, but convert content to uppercase first\n",
    "        print(\"NEW\")\n",
    "        obj = super().__new__(cls, content.upper())\n",
    "        return obj\n",
    "\n",
    "s = UpperStr(\"hello\")\n",
    "print(s)  "
   ]
  },
  {
   "cell_type": "code",
   "execution_count": null,
   "id": "0e67ae7c",
   "metadata": {},
   "outputs": [],
   "source": []
  },
  {
   "cell_type": "code",
   "execution_count": null,
   "id": "5d52b0c3",
   "metadata": {},
   "outputs": [],
   "source": []
  },
  {
   "cell_type": "code",
   "execution_count": null,
   "id": "ff59f389",
   "metadata": {},
   "outputs": [],
   "source": []
  },
  {
   "cell_type": "code",
   "execution_count": 35,
   "id": "f3749d5c",
   "metadata": {},
   "outputs": [
    {
     "name": "stdout",
     "output_type": "stream",
     "text": [
      "Creating the instance for the first time\n",
      "10\n"
     ]
    },
    {
     "ename": "Exception",
     "evalue": "Error, Only One object allowed",
     "output_type": "error",
     "traceback": [
      "\u001b[1;31m---------------------------------------------------------------------------\u001b[0m",
      "\u001b[1;31mException\u001b[0m                                 Traceback (most recent call last)",
      "\u001b[1;32m~\\AppData\\Local\\Temp/ipykernel_16956/1594457127.py\u001b[0m in \u001b[0;36m<module>\u001b[1;34m\u001b[0m\n\u001b[0;32m     19\u001b[0m \u001b[0mprint\u001b[0m\u001b[1;33m(\u001b[0m\u001b[0ms1\u001b[0m\u001b[1;33m.\u001b[0m\u001b[0mvalue\u001b[0m\u001b[1;33m)\u001b[0m\u001b[1;33m\u001b[0m\u001b[1;33m\u001b[0m\u001b[0m\n\u001b[0;32m     20\u001b[0m \u001b[1;33m\u001b[0m\u001b[0m\n\u001b[1;32m---> 21\u001b[1;33m \u001b[0ms2\u001b[0m \u001b[1;33m=\u001b[0m \u001b[0mSingleton\u001b[0m\u001b[1;33m(\u001b[0m\u001b[1;36m20\u001b[0m\u001b[1;33m)\u001b[0m\u001b[1;33m\u001b[0m\u001b[1;33m\u001b[0m\u001b[0m\n\u001b[0m\u001b[0;32m     22\u001b[0m \u001b[0mprint\u001b[0m\u001b[1;33m(\u001b[0m\u001b[0ms2\u001b[0m\u001b[1;33m.\u001b[0m\u001b[0mvalue\u001b[0m\u001b[1;33m)\u001b[0m\u001b[1;33m\u001b[0m\u001b[1;33m\u001b[0m\u001b[0m\n\u001b[0;32m     23\u001b[0m \u001b[1;33m\u001b[0m\u001b[0m\n",
      "\u001b[1;32m~\\AppData\\Local\\Temp/ipykernel_16956/1594457127.py\u001b[0m in \u001b[0;36m__new__\u001b[1;34m(cls, *args, **kwargs)\u001b[0m\n\u001b[0;32m      8\u001b[0m         \u001b[1;32melse\u001b[0m\u001b[1;33m:\u001b[0m\u001b[1;33m\u001b[0m\u001b[1;33m\u001b[0m\u001b[0m\n\u001b[0;32m      9\u001b[0m             \u001b[1;31m#print(\"Error, Only One object allowed\")\u001b[0m\u001b[1;33m\u001b[0m\u001b[1;33m\u001b[0m\u001b[0m\n\u001b[1;32m---> 10\u001b[1;33m             \u001b[1;32mraise\u001b[0m \u001b[0mException\u001b[0m\u001b[1;33m(\u001b[0m\u001b[1;34m\"Error, Only One object allowed\"\u001b[0m\u001b[1;33m)\u001b[0m\u001b[1;33m\u001b[0m\u001b[1;33m\u001b[0m\u001b[0m\n\u001b[0m\u001b[0;32m     11\u001b[0m \u001b[1;33m\u001b[0m\u001b[0m\n\u001b[0;32m     12\u001b[0m         \u001b[1;32mreturn\u001b[0m \u001b[0mcls\u001b[0m\u001b[1;33m.\u001b[0m\u001b[0m_instance\u001b[0m\u001b[1;33m\u001b[0m\u001b[1;33m\u001b[0m\u001b[0m\n",
      "\u001b[1;31mException\u001b[0m: Error, Only One object allowed"
     ]
    }
   ],
   "source": [
    "class Singleton:\n",
    "    _instance = None  # Class variable to hold the single instance\n",
    "\n",
    "    def __new__(cls, *args, **kwargs):\n",
    "        if cls._instance is None:\n",
    "            print(\"Creating the instance for the first time\")\n",
    "            cls._instance = super().__new__(cls)\n",
    "        else:\n",
    "            #print(\"Error, Only One object allowed\")\n",
    "            raise Exception(\"Error, Only One object allowed\")\n",
    "            \n",
    "        return cls._instance\n",
    "\n",
    "    def __init__(self, value):\n",
    "        self.value = value\n",
    "\n",
    "# Testing Singleton\n",
    "s1 = Singleton(10)\n",
    "print(s1.value)  \n",
    "\n",
    "s2 = Singleton(20)\n",
    "print(s2.value) \n",
    "\n",
    "print(s1 is s2)  "
   ]
  },
  {
   "cell_type": "code",
   "execution_count": null,
   "id": "c84d8840",
   "metadata": {},
   "outputs": [],
   "source": []
  },
  {
   "cell_type": "code",
   "execution_count": null,
   "id": "6e799c9b",
   "metadata": {},
   "outputs": [],
   "source": []
  }
 ],
 "metadata": {
  "kernelspec": {
   "display_name": "Python 3 (ipykernel)",
   "language": "python",
   "name": "python3"
  },
  "language_info": {
   "codemirror_mode": {
    "name": "ipython",
    "version": 3
   },
   "file_extension": ".py",
   "mimetype": "text/x-python",
   "name": "python",
   "nbconvert_exporter": "python",
   "pygments_lexer": "ipython3",
   "version": "3.9.7"
  }
 },
 "nbformat": 4,
 "nbformat_minor": 5
}
