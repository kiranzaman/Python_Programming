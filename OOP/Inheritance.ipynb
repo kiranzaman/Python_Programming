{
 "cells": [
  {
   "cell_type": "markdown",
   "id": "0de2962e",
   "metadata": {},
   "source": [
    "---   \n",
    "---   \n",
    "\n",
    "<h1 align=\"center\">ExD</h1>\n",
    "<h1 align=\"center\">Course: Advanced Python Programming Language</h1>\n",
    "\n",
    "\n",
    "---\n",
    "<h3><div align=\"right\">Instructor: Kiran Khursheed</div></h3>    "
   ]
  },
  {
   "cell_type": "markdown",
   "id": "fbf93918",
   "metadata": {},
   "source": [
    "<h1 align=\"center\">Inheritance</h1>"
   ]
  },
  {
   "cell_type": "markdown",
   "id": "3c196097",
   "metadata": {},
   "source": [
    "## What is Inheritance?\n",
    "#### Imagine you have a family. You might have your mom or dad, and you look a bit like them. Maybe you have their hair color, or their smile.\n",
    "\n",
    "###### In Python, inheritance is like when a child gets some things from their parent—just like in real life!\n",
    "\n",
    "    In programming, a class (like a family) can give its children (other classes) some of its features (like functions and variables)."
   ]
  },
  {
   "cell_type": "markdown",
   "id": "2e1b2cee",
   "metadata": {},
   "source": [
    "### Example: Family of Animals"
   ]
  },
  {
   "cell_type": "code",
   "execution_count": null,
   "id": "393ea97c",
   "metadata": {},
   "outputs": [],
   "source": []
  },
  {
   "cell_type": "markdown",
   "id": "54a1e544",
   "metadata": {},
   "source": [
    "##### Let’s say we have a Parent class called Animal"
   ]
  },
  {
   "cell_type": "code",
   "execution_count": 10,
   "id": "cc8db4cb",
   "metadata": {},
   "outputs": [],
   "source": [
    "class Animal:\n",
    "    def speak(self):\n",
    "        print(\"I can make a sound!\")\n"
   ]
  },
  {
   "cell_type": "markdown",
   "id": "a642b7ce",
   "metadata": {},
   "source": [
    "##### Now, we want to create a child class called Dog that is an animal but can also do more. So, we make it inherit from Animal"
   ]
  },
  {
   "cell_type": "code",
   "execution_count": 11,
   "id": "cb5a3799",
   "metadata": {},
   "outputs": [],
   "source": [
    "class Dog(Animal):\n",
    "    def bark(self):\n",
    "        print(\"Woof! Woof!\")\n"
   ]
  },
  {
   "cell_type": "code",
   "execution_count": null,
   "id": "f80937c2",
   "metadata": {},
   "outputs": [],
   "source": []
  },
  {
   "cell_type": "markdown",
   "id": "57077e62",
   "metadata": {},
   "source": [
    "#### What Happened?\n",
    "   - Dog inherited the speak method from Animal.\n",
    "\n",
    "   - Dog also has its own method bark."
   ]
  },
  {
   "cell_type": "code",
   "execution_count": 12,
   "id": "05c8c626",
   "metadata": {},
   "outputs": [
    {
     "name": "stdout",
     "output_type": "stream",
     "text": [
      "I can make a sound!\n",
      "Woof! Woof!\n"
     ]
    }
   ],
   "source": [
    "my_dog = Dog()\n",
    "my_dog.speak()  # Comes from Animal!\n",
    "my_dog.bark()   # Comes from Dog!\n"
   ]
  },
  {
   "cell_type": "markdown",
   "id": "b9f778a4",
   "metadata": {},
   "source": [
    "#### Family Tree Picture:\n",
    "\n",
    "  Animal (Parent)\n",
    "\n",
    "  └── Dog (Child)\n"
   ]
  },
  {
   "cell_type": "markdown",
   "id": "a686ef20",
   "metadata": {},
   "source": [
    "###### The child Dog inherits from the parent Animal."
   ]
  },
  {
   "cell_type": "markdown",
   "id": "f8cf6629",
   "metadata": {},
   "source": [
    "### Why is Inheritance Useful?\n",
    "\n",
    "   - It helps us reuse code!\n",
    "   - We don’t have to write the same code again.\n",
    "   - The child class gets all the goodies from the parent class (like getting your dad’s smile or your mom’s eyes in real life)."
   ]
  },
  {
   "cell_type": "markdown",
   "id": "4198e8d8",
   "metadata": {},
   "source": [
    "###  Create a Class: Employee\n",
    "\n",
    "Make an Employee class with:\n",
    "\n",
    "   - name\n",
    "\n",
    "   - salary\n",
    "\n",
    "   - a method show_salary() that prints the salary.\n",
    "\n",
    "##### Now, create a child class Manager that:\n",
    "\n",
    "   - Inherits from Employee\n",
    "\n",
    "   - Has an additional attribute department\n",
    "\n",
    "   - Has a method manage() that prints:\n",
    "      - I manage the < department > department.\n",
    "\n",
    "    "
   ]
  },
  {
   "cell_type": "code",
   "execution_count": 13,
   "id": "32c1856b",
   "metadata": {},
   "outputs": [],
   "source": [
    "class Employee:\n",
    "    def __init__(self, name, salary):\n",
    "        self.name = name\n",
    "        self.salary = salary\n",
    "    def show_salary(self):\n",
    "        print(f\"My salary is {self.salary}.\")"
   ]
  },
  {
   "cell_type": "code",
   "execution_count": 14,
   "id": "f3f683e8",
   "metadata": {},
   "outputs": [],
   "source": [
    "class Manager(Employee):\n",
    "    def __init__(self, name, salary, department):\n",
    "        super().__init__(name, salary)  # Inherit name and salary from Employee\n",
    "        self.department = department\n",
    "\n",
    "    def manage(self):\n",
    "        print(f\"I manage the {self.department} department.\")\n"
   ]
  },
  {
   "cell_type": "code",
   "execution_count": 15,
   "id": "291b6bfb",
   "metadata": {},
   "outputs": [
    {
     "name": "stdout",
     "output_type": "stream",
     "text": [
      "My salary is 500.\n",
      "I manage the DA department.\n"
     ]
    }
   ],
   "source": [
    "# Create a Manager object\n",
    "manager1 = Manager(\"Kiran\", 500, \"DA\")\n",
    "\n",
    "# Use the methods\n",
    "manager1.show_salary()   # From Employee\n",
    "manager1.manage()        # From Manager\n"
   ]
  },
  {
   "cell_type": "code",
   "execution_count": null,
   "id": "75e25399",
   "metadata": {},
   "outputs": [],
   "source": []
  },
  {
   "cell_type": "code",
   "execution_count": null,
   "id": "b8902fe5",
   "metadata": {},
   "outputs": [],
   "source": []
  },
  {
   "cell_type": "code",
   "execution_count": 16,
   "id": "b61fda76",
   "metadata": {},
   "outputs": [],
   "source": [
    "class Vehicle:\n",
    "    def __init__(self, brand):\n",
    "        self.brand = brand\n",
    "\n",
    "    def start(self):\n",
    "        print(f\"{self.brand} is starting.\")\n",
    "\n",
    "class Car(Vehicle):\n",
    "    def drive(self):\n",
    "        print(f\"{self.brand} is driving on the road.\")\n",
    "\n",
    "class Bike(Vehicle):\n",
    "    def ride(self):\n",
    "        print(f\"{self.brand} is being ridden.\")\n"
   ]
  },
  {
   "cell_type": "code",
   "execution_count": 17,
   "id": "88e1bb12",
   "metadata": {},
   "outputs": [
    {
     "name": "stdout",
     "output_type": "stream",
     "text": [
      "Toyota is starting.\n",
      "Toyota is driving on the road.\n",
      "Yamaha is starting.\n",
      "Yamaha is being ridden.\n"
     ]
    }
   ],
   "source": [
    "my_car = Car(\"Toyota\")\n",
    "my_bike = Bike(\"Yamaha\")\n",
    "\n",
    "my_car.start()\n",
    "my_car.drive()\n",
    "\n",
    "my_bike.start()\n",
    "my_bike.ride()\n"
   ]
  },
  {
   "cell_type": "code",
   "execution_count": null,
   "id": "35f687d3",
   "metadata": {},
   "outputs": [],
   "source": []
  },
  {
   "cell_type": "markdown",
   "id": "8567d457",
   "metadata": {},
   "source": [
    "### Public, Protected, Private in Python\n"
   ]
  },
  {
   "cell_type": "markdown",
   "id": "e80d5702",
   "metadata": {},
   "source": [
    "##### Imagine a House\n",
    "\n",
    "###### Let’s say you have a house (a class), and inside the house are:\n",
    "\n",
    "   - 1- Public rooms: Anyone can enter anytime.\n",
    "   - 2- Protected rooms: Your family members can enter, but not strangers.\n",
    "   - 3- Private rooms: Only you can enter. No one else can!"
   ]
  },
  {
   "cell_type": "markdown",
   "id": "d4485a8d",
   "metadata": {},
   "source": [
    "### Public: Anyone can access\n",
    "\n",
    " - How to declare: No underscores"
   ]
  },
  {
   "cell_type": "code",
   "execution_count": 18,
   "id": "20b82ae2",
   "metadata": {},
   "outputs": [
    {
     "name": "stdout",
     "output_type": "stream",
     "text": [
      "Kiran\n"
     ]
    }
   ],
   "source": [
    "class Person:\n",
    "    def __init__(self):\n",
    "        self.name = \"Kiran\"  # Public attribute\n",
    "\n",
    "p = Person()\n",
    "print(p.name)  \n"
   ]
  },
  {
   "cell_type": "markdown",
   "id": "a05d55e4",
   "metadata": {},
   "source": [
    "###  Protected: Accessible inside the class and child classes (but not recommended for outsiders)\n",
    " - How to declare: One underscore _"
   ]
  },
  {
   "cell_type": "code",
   "execution_count": 21,
   "id": "7e2037d0",
   "metadata": {},
   "outputs": [
    {
     "name": "stdout",
     "output_type": "stream",
     "text": [
      "79\n"
     ]
    }
   ],
   "source": [
    "class Person:\n",
    "    def __init__(self):\n",
    "        self._age = 79  # Protected attribute\n",
    "\n",
    "class Student(Person):\n",
    "    def get_age(self):\n",
    "        return self._age  # Can access protected attribute\n",
    "\n",
    "s = Student()\n",
    "print(s.get_age())  # Accessed by child class\n"
   ]
  },
  {
   "cell_type": "markdown",
   "id": "1b5467d9",
   "metadata": {},
   "source": [
    "#### You can access it from outside, but by convention, you shouldn’t.\n",
    " - It’s like a \"Please do not enter\" sign. "
   ]
  },
  {
   "cell_type": "markdown",
   "id": "34915ce5",
   "metadata": {},
   "source": [
    "### Private: Only inside the class\n",
    "- How to declare: Double underscore __"
   ]
  },
  {
   "cell_type": "code",
   "execution_count": 24,
   "id": "ee2040e4",
   "metadata": {},
   "outputs": [
    {
     "name": "stdout",
     "output_type": "stream",
     "text": [
      "5000\n"
     ]
    },
    {
     "ename": "AttributeError",
     "evalue": "'Person' object has no attribute '__salary'",
     "output_type": "error",
     "traceback": [
      "\u001b[1;31m---------------------------------------------------------------------------\u001b[0m",
      "\u001b[1;31mAttributeError\u001b[0m                            Traceback (most recent call last)",
      "\u001b[1;32m~\\AppData\\Local\\Temp/ipykernel_11484/3724503717.py\u001b[0m in \u001b[0;36m<module>\u001b[1;34m\u001b[0m\n\u001b[0;32m     10\u001b[0m \u001b[1;33m\u001b[0m\u001b[0m\n\u001b[0;32m     11\u001b[0m \u001b[1;31m# But this will give an error:\u001b[0m\u001b[1;33m\u001b[0m\u001b[1;33m\u001b[0m\u001b[0m\n\u001b[1;32m---> 12\u001b[1;33m \u001b[0mprint\u001b[0m\u001b[1;33m(\u001b[0m\u001b[0mp\u001b[0m\u001b[1;33m.\u001b[0m\u001b[0m__salary\u001b[0m\u001b[1;33m)\u001b[0m  \u001b[1;31m#AttributeError\u001b[0m\u001b[1;33m\u001b[0m\u001b[1;33m\u001b[0m\u001b[0m\n\u001b[0m",
      "\u001b[1;31mAttributeError\u001b[0m: 'Person' object has no attribute '__salary'"
     ]
    }
   ],
   "source": [
    "class Person:\n",
    "    def __init__(self):\n",
    "        self.__salary = 5000  # Private attribute\n",
    "\n",
    "    def show_salary(self):\n",
    "        print(self.__salary)  # Can access inside the class\n",
    "\n",
    "p = Person()\n",
    "p.show_salary()  # Works fine\n",
    "\n",
    "# But this will give an error:\n",
    "print(p.__salary)  #AttributeError\n"
   ]
  },
  {
   "cell_type": "code",
   "execution_count": 25,
   "id": "91ff7b75",
   "metadata": {},
   "outputs": [
    {
     "name": "stdout",
     "output_type": "stream",
     "text": [
      "5000\n"
     ]
    }
   ],
   "source": [
    "print(p._Person__salary)  # This works, but it’s like breaking the lock."
   ]
  },
  {
   "cell_type": "markdown",
   "id": "50ac2748",
   "metadata": {},
   "source": []
  },
  {
   "cell_type": "markdown",
   "id": "104f7fff",
   "metadata": {},
   "source": [
    "<img align=\"center\" width=\"600\" height=\"600\"  src=\"images/accessibilty.png\" > "
   ]
  },
  {
   "cell_type": "code",
   "execution_count": null,
   "id": "451c597f",
   "metadata": {},
   "outputs": [],
   "source": []
  },
  {
   "cell_type": "code",
   "execution_count": null,
   "id": "041eff3e",
   "metadata": {},
   "outputs": [],
   "source": []
  },
  {
   "cell_type": "markdown",
   "id": "ed85ba7e",
   "metadata": {},
   "source": [
    " - What is a class in Python?\n",
    " - What is an object in Python?\n",
    " - How do you create an object from a class?\n",
    " - What is the purpose of the __init__ method in a class?\n",
    " - What keyword is used to define a class in Python?\n",
    " - What is inheritance in Python?\n",
    " - How do you create a child class that inherits from a parent class?\n",
    " - Can a child class use methods from the parent class? \n",
    " - What happens if a child class does not have an __init__ method?\n",
    " - Can a child class add its own methods and attributes? \n",
    " - What is method overriding in Python?\n",
    " - When would you override a method in a child class?\n",
    " - Can you call a parent class method from a child class if you override it?\n",
    " - How do you call a parent class method from the child class if you need to?\n",
    " - How do you make an attribute protected in Python?\n",
    " - How do you make an attribute private in Python?\n",
    " - Can a child class access a private attribute of the parent?\n",
    " - Can you access a protected attribute from outside the class?"
   ]
  },
  {
   "cell_type": "code",
   "execution_count": null,
   "id": "dfd37f3c",
   "metadata": {},
   "outputs": [],
   "source": []
  }
 ],
 "metadata": {
  "kernelspec": {
   "display_name": "Python 3 (ipykernel)",
   "language": "python",
   "name": "python3"
  },
  "language_info": {
   "codemirror_mode": {
    "name": "ipython",
    "version": 3
   },
   "file_extension": ".py",
   "mimetype": "text/x-python",
   "name": "python",
   "nbconvert_exporter": "python",
   "pygments_lexer": "ipython3",
   "version": "3.9.7"
  }
 },
 "nbformat": 4,
 "nbformat_minor": 5
}
