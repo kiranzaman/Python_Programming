{
 "cells": [
  {
   "cell_type": "markdown",
   "id": "03eef344",
   "metadata": {},
   "source": [
    "---   \n",
    "---   \n",
    "\n",
    "<h1 align=\"center\">ExD</h1>\n",
    "<h1 align=\"center\">Course: Advanced Python Programming Language</h1>\n",
    "\n",
    "\n",
    "---\n",
    "<h3><div align=\"right\">Instructor: Kiran Khursheed</div></h3>    "
   ]
  },
  {
   "cell_type": "markdown",
   "id": "bd42b35a",
   "metadata": {},
   "source": [
    "<h1 align=\"center\">Python Lists Practice</h1>"
   ]
  },
  {
   "cell_type": "markdown",
   "id": "1b1d56eb",
   "metadata": {},
   "source": [
    "### Cricket Team List\n",
    "\n",
    "- Create a list of 5 cricketers.\n",
    "\n",
    "- Print the first player.\n",
    "\n",
    "- Print the last player.\n",
    "\n",
    "- Replace the 3rd player with your favorite."
   ]
  },
  {
   "cell_type": "code",
   "execution_count": null,
   "id": "d6961b5b",
   "metadata": {},
   "outputs": [],
   "source": []
  },
  {
   "cell_type": "markdown",
   "id": "bf495a7e",
   "metadata": {},
   "source": [
    "### 2. Food Party\n",
    "\n",
    "- Make a list of 5 food items you love.\n",
    "\n",
    "- Add \"Ice Cream\" at the end.\n",
    "\n",
    "- Insert \"Burger\" at the 2nd position.\n",
    "\n",
    "- Remove one item you don’t like anymore."
   ]
  },
  {
   "cell_type": "code",
   "execution_count": null,
   "id": "4c7075ed",
   "metadata": {},
   "outputs": [],
   "source": []
  },
  {
   "cell_type": "markdown",
   "id": "334c3bcf",
   "metadata": {},
   "source": [
    "### 3. Numbers Magic\n",
    "\n",
    "- Make a list [2, 4, 6, 8, 10].\n",
    "\n",
    "- Print the sum of all numbers.\n",
    "\n",
    "- Print the maximum and minimum.\n",
    "\n",
    "- Multiply the 3rd number by 5 and update it."
   ]
  },
  {
   "cell_type": "code",
   "execution_count": null,
   "id": "0454bd8b",
   "metadata": {},
   "outputs": [],
   "source": []
  },
  {
   "cell_type": "markdown",
   "id": "5da74e23",
   "metadata": {},
   "source": [
    "### 4. Mixed Bag \n",
    "\n",
    "- Create a list containing different data types: a string, a number, a float, and a boolean.\n",
    "\n",
    "- Print the type of each element.\n",
    "\n",
    "- Replace the float with a new value."
   ]
  },
  {
   "cell_type": "code",
   "execution_count": null,
   "id": "2a9a83f4",
   "metadata": {},
   "outputs": [],
   "source": []
  },
  {
   "cell_type": "markdown",
   "id": "b757c451",
   "metadata": {},
   "source": [
    "### 5. Shopping Cart \n",
    "\n",
    "- Make a shopping list: [\"Milk\", \"Eggs\", \"Bread\"]\n",
    "\n",
    "- Add \"Chocolate\" and \"Juice\".\n",
    "\n",
    "- Print how many items are in your cart.\n",
    "\n",
    "- Remove \"Eggs\"."
   ]
  },
  {
   "cell_type": "code",
   "execution_count": null,
   "id": "1ae1f155",
   "metadata": {},
   "outputs": [],
   "source": []
  },
  {
   "cell_type": "markdown",
   "id": "4c778a28",
   "metadata": {},
   "source": [
    "### 6. Superheroes \n",
    "\n",
    "- Create a list of 4 superheroes.\n",
    "\n",
    "- Print the 2nd and 3rd heroes together (slicing).\n",
    "\n",
    "- Reverse the list without using loops."
   ]
  },
  {
   "cell_type": "code",
   "execution_count": null,
   "id": "a7cf7e73",
   "metadata": {},
   "outputs": [],
   "source": []
  },
  {
   "cell_type": "markdown",
   "id": "6706de71",
   "metadata": {},
   "source": [
    "### 7. Double Trouble\n",
    "\n",
    "Make a list of numbers [1, 2, 3].\n",
    "\n",
    "Create a new list that repeats the numbers 3 times.\n",
    "\n",
    "Create another new list that doubles every number (without loops)."
   ]
  },
  {
   "cell_type": "code",
   "execution_count": null,
   "id": "5d6824f2",
   "metadata": {},
   "outputs": [],
   "source": []
  },
  {
   "cell_type": "markdown",
   "id": "0b362aa1",
   "metadata": {},
   "source": [
    "### 8. Classroom Students\n",
    "\n",
    "List: [\"Farooq\", \"Manahil\", \"Mohsin\", \"Haseeb\"]\n",
    "\n",
    "Swap the first and last student.\n",
    "\n",
    "Remove \"Manahil\" and insert \"Zainab\"."
   ]
  },
  {
   "cell_type": "code",
   "execution_count": null,
   "id": "f3556952",
   "metadata": {},
   "outputs": [],
   "source": []
  },
  {
   "cell_type": "markdown",
   "id": "e9c6f213",
   "metadata": {},
   "source": [
    "### 9. Funny Mix \n",
    "\n",
    "Take two lists:\n",
    "players = [\"Babar\", \"Kohli\", \"Dhoni\"]\n",
    "teams = [\"Pakistan\", \"India\", \"India\"]\n",
    "\n",
    "Join them into one list.\n",
    "\n",
    "Print only the first player with their team using indexing."
   ]
  },
  {
   "cell_type": "code",
   "execution_count": null,
   "id": "507ec385",
   "metadata": {},
   "outputs": [],
   "source": []
  },
  {
   "cell_type": "markdown",
   "id": "774f2152",
   "metadata": {},
   "source": [
    "### 10. Lucky Draw \n",
    "\n",
    "Create a list of 10 names.\n",
    "\n",
    "- Print the middle name (bonus winner).\n",
    "\n",
    "- Print the first 3 names (early bird winners).\n",
    "\n",
    "- Print the last 2 names (special prize winners)."
   ]
  },
  {
   "cell_type": "code",
   "execution_count": null,
   "id": "760307da",
   "metadata": {},
   "outputs": [],
   "source": []
  }
 ],
 "metadata": {
  "kernelspec": {
   "display_name": "Python 3 (ipykernel)",
   "language": "python",
   "name": "python3"
  },
  "language_info": {
   "codemirror_mode": {
    "name": "ipython",
    "version": 3
   },
   "file_extension": ".py",
   "mimetype": "text/x-python",
   "name": "python",
   "nbconvert_exporter": "python",
   "pygments_lexer": "ipython3",
   "version": "3.9.7"
  }
 },
 "nbformat": 4,
 "nbformat_minor": 5
}
