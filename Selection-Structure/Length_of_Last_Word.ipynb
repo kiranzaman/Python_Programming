{
 "cells": [
  {
   "cell_type": "markdown",
   "id": "44e2c213",
   "metadata": {},
   "source": [
    "---   \n",
    "---   \n",
    "\n",
    "<h1 align=\"center\">ExD</h1>\n",
    "<h1 align=\"center\">Course: Advanced Python Programming Language</h1>\n",
    "\n",
    "\n",
    "---\n",
    "<h3><div align=\"right\">Instructor: Kiran Khursheed</div></h3>    "
   ]
  },
  {
   "cell_type": "markdown",
   "id": "d334c0c2",
   "metadata": {},
   "source": [
    "<h1 align=\"center\">Length of Last Word</h1>"
   ]
  },
  {
   "cell_type": "markdown",
   "id": "5171fc0b",
   "metadata": {},
   "source": [
    "### Given a string s consisting of words and spaces, return the length of the last word in the string. A word is a maximal consisting of non-space characters only."
   ]
  },
  {
   "cell_type": "raw",
   "id": "8d82d6b8",
   "metadata": {},
   "source": [
    "Example 1:\n",
    "Input: s = \"Hello World\"\n",
    "Output: 5\n",
    "Explanation: The last word is \"World\" with length 5.\n",
    "Example 2:\n",
    "Input: s = \"   fly me   to   the moon  \"\n",
    "Output: 4\n",
    "Explanation: The last word is \"moon\" with length 4.\n",
    "Example 3:\n",
    "Input: s = \"luffy is still joyboy\"\n",
    "Output: 6\n",
    "Explanation: The last word is \"joyboy\" with length 6.\n",
    "\n",
    "Constraints:\n",
    "•\t1 <= s.length <= 104\n",
    "•\ts consists of only English letters and spaces ' '.\n",
    "•\tThere will be at least one word in s.\n"
   ]
  },
  {
   "cell_type": "code",
   "execution_count": null,
   "id": "9c651608",
   "metadata": {},
   "outputs": [],
   "source": []
  }
 ],
 "metadata": {
  "kernelspec": {
   "display_name": "Python 3 (ipykernel)",
   "language": "python",
   "name": "python3"
  },
  "language_info": {
   "codemirror_mode": {
    "name": "ipython",
    "version": 3
   },
   "file_extension": ".py",
   "mimetype": "text/x-python",
   "name": "python",
   "nbconvert_exporter": "python",
   "pygments_lexer": "ipython3",
   "version": "3.9.7"
  }
 },
 "nbformat": 4,
 "nbformat_minor": 5
}
