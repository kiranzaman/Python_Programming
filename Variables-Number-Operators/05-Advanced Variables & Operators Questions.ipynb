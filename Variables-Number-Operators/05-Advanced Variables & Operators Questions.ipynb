{
 "cells": [
  {
   "cell_type": "markdown",
   "id": "28b8cccd",
   "metadata": {},
   "source": [
    "---   \n",
    "---   \n",
    "\n",
    "<h1 align=\"center\">ExD</h1>\n",
    "<h1 align=\"center\">Course: Advanced Python Programming Language</h1>\n",
    "\n",
    "\n",
    "---\n",
    "<h3><div align=\"right\">Instructor: Kiran Khursheed</div></h3>    "
   ]
  },
  {
   "cell_type": "markdown",
   "id": "2368aee3",
   "metadata": {},
   "source": [
    "<h1 align=\"center\">Advanced Variables & Operators Questions</h1>"
   ]
  },
  {
   "cell_type": "markdown",
   "id": "c0850515",
   "metadata": {},
   "source": [
    "### 1. **Bitwise Swap**\n",
    "\n",
    "Swap the values of `a = 15` and `b = 27` **without using a third variable** and without arithmetic operators.\n"
   ]
  },
  {
   "cell_type": "code",
   "execution_count": null,
   "id": "f788ad2f",
   "metadata": {},
   "outputs": [],
   "source": []
  },
  {
   "cell_type": "markdown",
   "id": "85580f1b",
   "metadata": {},
   "source": [
    "### 2. **Check Odd/Even Without %**\n",
    "\n",
    "Use only bitwise operators to check if `n = 57` is odd or even.\n"
   ]
  },
  {
   "cell_type": "code",
   "execution_count": null,
   "id": "41a7cf36",
   "metadata": {},
   "outputs": [],
   "source": []
  },
  {
   "cell_type": "markdown",
   "id": "83dff563",
   "metadata": {},
   "source": [
    "### 3. **Absolute Value Without abs()**\n",
    "\n",
    "Find the absolute value of `x = -29` using only bitwise and arithmetic operators.\n"
   ]
  },
  {
   "cell_type": "code",
   "execution_count": null,
   "id": "269ef26d",
   "metadata": {},
   "outputs": [],
   "source": []
  },
  {
   "cell_type": "markdown",
   "id": "ecf9412e",
   "metadata": {},
   "source": [
    "### 4. **Max of Two Numbers Without if/else**\n",
    "\n",
    "Find the maximum of `a = 45` and `b = 72` using only operators.\n"
   ]
  },
  {
   "cell_type": "code",
   "execution_count": null,
   "id": "8839933d",
   "metadata": {},
   "outputs": [],
   "source": []
  },
  {
   "cell_type": "markdown",
   "id": "4f4c78f4",
   "metadata": {},
   "source": [
    "### 5. **Min of Two Numbers**\n",
    "\n",
    "Find the minimum of `a = 101` and `b = 59` using only operators.\n"
   ]
  },
  {
   "cell_type": "code",
   "execution_count": null,
   "id": "6639ae1b",
   "metadata": {},
   "outputs": [],
   "source": []
  },
  {
   "cell_type": "markdown",
   "id": "8d7a082c",
   "metadata": {},
   "source": [
    "### 6. **Set a Specific Bit**\n",
    "\n",
    "For `num = 42`, set the 3rd bit (counting from 0). Show the new number.\n"
   ]
  },
  {
   "cell_type": "code",
   "execution_count": null,
   "id": "01e4d1e5",
   "metadata": {},
   "outputs": [],
   "source": []
  },
  {
   "cell_type": "markdown",
   "id": "5eee2921",
   "metadata": {},
   "source": [
    "### 7. **Clear a Specific Bit**\n",
    "\n",
    "For `num = 42`, clear the 1st bit (counting from 0). Show the result.\n"
   ]
  },
  {
   "cell_type": "code",
   "execution_count": null,
   "id": "30a11708",
   "metadata": {},
   "outputs": [],
   "source": []
  },
  {
   "cell_type": "markdown",
   "id": "75a7075e",
   "metadata": {},
   "source": [
    "### 8. **Toggle a Specific Bit**\n",
    "\n",
    "For `num = 42`, toggle the 2nd bit. Show the new number.\n"
   ]
  },
  {
   "cell_type": "code",
   "execution_count": null,
   "id": "27a255da",
   "metadata": {},
   "outputs": [],
   "source": []
  },
  {
   "cell_type": "markdown",
   "id": "1c234dfb",
   "metadata": {},
   "source": [
    "### 9. **Check Power of Two**\n",
    "\n",
    "For `n = 64`, use bitwise operators to check if it is a power of two.\n"
   ]
  },
  {
   "cell_type": "code",
   "execution_count": null,
   "id": "6939a281",
   "metadata": {},
   "outputs": [],
   "source": []
  },
  {
   "cell_type": "markdown",
   "id": "67d59b53",
   "metadata": {},
   "source": [
    "### 10. **Two True Sensors**\n",
    "\n",
    "`sensor_A = True, sensor_B = False, sensor_C = True`.\n",
    "Check if **exactly two sensors** are `True` using only logical operators.\n"
   ]
  },
  {
   "cell_type": "code",
   "execution_count": null,
   "id": "648714f6",
   "metadata": {},
   "outputs": [],
   "source": []
  },
  {
   "cell_type": "markdown",
   "id": "cb149d60",
   "metadata": {},
   "source": [
    "### 11. **Three-Way Rotation**\n",
    "\n",
    "Rotate values of `x = 1, y = 2, z = 3` \n",
    "\n",
    "→ after operation:\n",
    "-    `x = 2, y = 3, z = 1`\n",
    " \n",
    " (Use only arithmetic operators).\n"
   ]
  },
  {
   "cell_type": "code",
   "execution_count": null,
   "id": "41a396fa",
   "metadata": {},
   "outputs": [],
   "source": []
  },
  {
   "cell_type": "markdown",
   "id": "c156065d",
   "metadata": {},
   "source": [
    "### 12. **Digit Extraction**\n",
    "\n",
    "For `num = 98765`, extract the 3rd digit from the right (should be `7`) using only arithmetic operators.\n"
   ]
  },
  {
   "cell_type": "code",
   "execution_count": null,
   "id": "7f796402",
   "metadata": {},
   "outputs": [],
   "source": []
  },
  {
   "cell_type": "markdown",
   "id": "9e88871f",
   "metadata": {},
   "source": [
    "\n",
    "### 13. **Middle of Three Numbers**\n",
    "\n",
    "Given `a = 40, b = 20, c = 30`, find the **middle number** (not min, not max) using only operators.\n"
   ]
  },
  {
   "cell_type": "code",
   "execution_count": null,
   "id": "b6b490f1",
   "metadata": {},
   "outputs": [],
   "source": []
  },
  {
   "cell_type": "markdown",
   "id": "08c41ab8",
   "metadata": {},
   "source": [
    "### 14. **XOR Trick for Addition**\n",
    "\n",
    "Use bitwise operators to calculate `a + b` where `a = 23` and `b = 12`.\n",
    "(No `+` allowed.)\n"
   ]
  },
  {
   "cell_type": "code",
   "execution_count": null,
   "id": "0f408b4d",
   "metadata": {},
   "outputs": [],
   "source": []
  },
  {
   "cell_type": "markdown",
   "id": "8d298051",
   "metadata": {},
   "source": [
    "### 15. **Subtraction Without -**\n",
    "\n",
    "Calculate `a - b` for `a = 55, b = 18` using only bitwise operators.\n"
   ]
  },
  {
   "cell_type": "code",
   "execution_count": null,
   "id": "e3d39f76",
   "metadata": {},
   "outputs": [],
   "source": []
  },
  {
   "cell_type": "markdown",
   "id": "b7c56693",
   "metadata": {},
   "source": [
    "### 16. **Engine Boost**\n",
    "\n",
    "Start with `engine = 75`.\n",
    "Do transformations:\n",
    "\n",
    "* Multiply by 4\n",
    "* Integer divide by 3\n",
    "* XOR with 25\n",
    "* Add 10\n",
    "* Right shift by 1"
   ]
  },
  {
   "cell_type": "code",
   "execution_count": null,
   "id": "02b58e45",
   "metadata": {},
   "outputs": [],
   "source": []
  },
  {
   "cell_type": "markdown",
   "id": "d1f62502",
   "metadata": {},
   "source": [
    "### 17. **Activation Code Formula**\n",
    "\n",
    "Given:\n",
    "\n",
    "```python\n",
    "alpha = 37\n",
    "beta = 58\n",
    "gamma = 21\n",
    "```\n",
    "\n",
    "Compute:\n",
    "\n",
    "```\n",
    "((alpha + beta) - (beta ^ gamma)) * (alpha | gamma) // (beta & gamma)\n",
    "```\n",
    "\n",
    "If denominator is zero, result = None (simulate with boolean operators)."
   ]
  },
  {
   "cell_type": "code",
   "execution_count": null,
   "id": "946c6cde",
   "metadata": {},
   "outputs": [],
   "source": []
  },
  {
   "cell_type": "code",
   "execution_count": null,
   "id": "1d2ce806",
   "metadata": {},
   "outputs": [],
   "source": []
  },
  {
   "cell_type": "markdown",
   "id": "f8b0931a",
   "metadata": {},
   "source": [
    "\n",
    "---\n",
    "\n",
    "### 18. **All Sensors Active?**\n",
    "\n",
    "`sensor_A = True, sensor_B = True, sensor_C = True`\n",
    "Check if **all are active** using only `and`, `or`, `not`.\n",
    "\n",
    "---"
   ]
  },
  {
   "cell_type": "code",
   "execution_count": null,
   "id": "6d8ee678",
   "metadata": {},
   "outputs": [],
   "source": []
  },
  {
   "cell_type": "markdown",
   "id": "42d7a435",
   "metadata": {},
   "source": [
    "### 19. **Only One Active?**\n",
    "\n",
    "`sensor_A = True, sensor_B = False, sensor_C = False`\n",
    "Check if **exactly one is True** using only logical operators.\n",
    "\n",
    "---"
   ]
  },
  {
   "cell_type": "code",
   "execution_count": null,
   "id": "37192171",
   "metadata": {},
   "outputs": [],
   "source": []
  },
  {
   "cell_type": "markdown",
   "id": "06595127",
   "metadata": {},
   "source": [
    "### 20. **Secret Code Puzzle**\n",
    "\n",
    "Given:\n",
    "\n",
    "```python\n",
    "x = 13\n",
    "y = 7\n",
    "z = 5\n",
    "```\n",
    "Compute the result of:\n",
    "\n",
    "```\n",
    "((x ^ y) & z) + ((x | z) - (y & z))\n",
    "```\n",
    "\n",
    "What is the final value?"
   ]
  },
  {
   "cell_type": "code",
   "execution_count": null,
   "id": "6754d6b5",
   "metadata": {},
   "outputs": [],
   "source": []
  }
 ],
 "metadata": {
  "kernelspec": {
   "display_name": "Python 3 (ipykernel)",
   "language": "python",
   "name": "python3"
  },
  "language_info": {
   "codemirror_mode": {
    "name": "ipython",
    "version": 3
   },
   "file_extension": ".py",
   "mimetype": "text/x-python",
   "name": "python",
   "nbconvert_exporter": "python",
   "pygments_lexer": "ipython3",
   "version": "3.9.7"
  }
 },
 "nbformat": 4,
 "nbformat_minor": 5
}
