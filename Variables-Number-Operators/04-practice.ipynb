{
 "cells": [
  {
   "cell_type": "markdown",
   "id": "2146a4b9",
   "metadata": {},
   "source": [
    "---   \n",
    "---   \n",
    "\n",
    "<h1 align=\"center\">ExD</h1>\n",
    "<h1 align=\"center\">Course: Advanced Python Programming Language</h1>\n",
    "\n",
    "\n",
    "---\n",
    "<h3><div align=\"right\">Instructor: Kiran Khursheed</div></h3>    "
   ]
  },
  {
   "cell_type": "markdown",
   "id": "43a9eea7",
   "metadata": {},
   "source": [
    "## Swapping Values Without Extra Variable"
   ]
  },
  {
   "cell_type": "code",
   "execution_count": 1,
   "id": "30f7948b",
   "metadata": {},
   "outputs": [
    {
     "name": "stdout",
     "output_type": "stream",
     "text": [
      "27 15\n"
     ]
    }
   ],
   "source": [
    "a = 15\n",
    "b = 27\n",
    "\n",
    "a = a + b   # a = 42\n",
    "b = a - b   # b = 15\n",
    "a = a - b   # a = 27\n",
    "\n",
    "print(a, b)   # 27 15\n"
   ]
  },
  {
   "cell_type": "markdown",
   "id": "61293657",
   "metadata": {},
   "source": [
    "#### The Candy Swap Story\n",
    "\n",
    "Imagine:\n",
    "\n",
    "- You have 15 candies (this is a = 15)\n",
    "\n",
    "- Your friend has 27 candies (this is b = 27)\n",
    "\n",
    "- Now you both want to swap candies without using a box (extra variable) to hold them."
   ]
  },
  {
   "cell_type": "markdown",
   "id": "c3f14390",
   "metadata": {},
   "source": [
    "### Solution \n",
    "##### Step 1: Put Both Candies Together\n",
    "- You put your candies together with your friend’s:\n",
    "> a = a + b   # 15 + 27 = 42\n",
    "\n",
    "##### Now you are holding all 42 candies\n",
    "##### Step 2: Give your friends Candies\n",
    "\n",
    "- Now give your friend candies compared to what he had (27):\n",
    "> b = a - b   # 42 - 27 = 15\n",
    "\n",
    "##### So your friend now has 15 candies\n",
    "\n",
    "##### Step 3: Keep What’s Left for Yourself\n",
    "\n",
    "###### Finally, you keep the rest:\n",
    "> a = a - b   # 42 - 15 = 27\n",
    "\n",
    "##### Now you have 27 candies (your friend’s old candies).\n"
   ]
  },
  {
   "cell_type": "markdown",
   "id": "ab387d5e",
   "metadata": {},
   "source": [
    "## Check if Two Numbers are Equal Type & Value\n",
    "- x = 25\n",
    "- y = 25.0"
   ]
  },
  {
   "cell_type": "code",
   "execution_count": 2,
   "id": "a6e2ec5d",
   "metadata": {},
   "outputs": [
    {
     "name": "stdout",
     "output_type": "stream",
     "text": [
      "True\n",
      "False\n"
     ]
    }
   ],
   "source": [
    "x = 25\n",
    "y = 25.0\n",
    "\n",
    "value_equal = (x == y)   # True (values are equal)\n",
    "identity_equal = (x is y) # False (different data types / memory)\n",
    "\n",
    "print(value_equal)     # True\n",
    "print(identity_equal)  # False\n"
   ]
  },
  {
   "cell_type": "markdown",
   "id": "040183cf",
   "metadata": {},
   "source": [
    "## Discounted Price Calculation\n",
    "\n",
    "Product price = 1200, discount = 15%, GST = 8% (on discounted price)."
   ]
  },
  {
   "cell_type": "code",
   "execution_count": 3,
   "id": "4448ba06",
   "metadata": {},
   "outputs": [
    {
     "name": "stdout",
     "output_type": "stream",
     "text": [
      "1101.6\n"
     ]
    }
   ],
   "source": [
    "p = 1200\n",
    "discount = p * 15 / 100\n",
    "after_discount = p - discount\n",
    "gst = after_discount * 8 / 100\n",
    "final_price = after_discount + gst\n",
    "\n",
    "print(final_price)   # 1108.8\n"
   ]
  },
  {
   "cell_type": "markdown",
   "id": "e2d03eb3",
   "metadata": {},
   "source": [
    "## Find the Middle Number\n",
    "Find the middle number among a = 12, b = 25, c = 18."
   ]
  },
  {
   "cell_type": "markdown",
   "id": "3030b0e8",
   "metadata": {},
   "source": [
    "### The Main Trick\n",
    "\n",
    "We ask: Is this number between the other two?\n",
    "\n",
    "- If yes → keep it\n",
    "\n",
    "- If no → make it 0\n",
    "\n",
    "Python lets us do this because:\n",
    "\n",
    " - True = 1\n",
    "\n",
    " - False = 0\n",
    "\n",
    "So when we multiply:\n",
    "\n",
    " > 18 * True = 18\n",
    "\n",
    " > 12 * False = 0\n",
    "\n",
    " > 25 * False = 0\n",
    "\n",
    "Only the middle number survives!"
   ]
  },
  {
   "cell_type": "code",
   "execution_count": 15,
   "id": "6e942978",
   "metadata": {},
   "outputs": [
    {
     "data": {
      "text/plain": [
       "0"
      ]
     },
     "execution_count": 15,
     "metadata": {},
     "output_type": "execute_result"
    }
   ],
   "source": [
    "False * (10 >2 ) "
   ]
  },
  {
   "cell_type": "code",
   "execution_count": 4,
   "id": "a76603fa",
   "metadata": {},
   "outputs": [
    {
     "name": "stdout",
     "output_type": "stream",
     "text": [
      "18\n"
     ]
    }
   ],
   "source": [
    "a, b, c = 12, 25, 18\n",
    "\n",
    "middle = (a * ((b <= a <= c) or (c <= a <= b))\n",
    "        + b * ((a <= b <= c) or (c <= b <= a))\n",
    "        + c * ((a <= c <= b) or (b <= c <= a)))\n",
    "\n",
    "print(middle)   # 18\n"
   ]
  },
  {
   "cell_type": "markdown",
   "id": "b977db0e",
   "metadata": {},
   "source": [
    "## Digit Extraction Game\n",
    "\n",
    "If num = 4782, extract digits."
   ]
  },
  {
   "cell_type": "markdown",
   "id": "22e946db",
   "metadata": {},
   "source": [
    "### Step 1 – Thousands Place\n",
    "\n",
    "-  If we divide by 1000, we push the number three places to the right:\n",
    "> 4782 // 1000 = 4\n",
    "So the thousands digit is 4.\n",
    "\n",
    "### Step 2 – Hundreds Place\n",
    "\n",
    "If we divide by 100, we push the number two places to the right:\n",
    "> 4782 // 100 = 47\n",
    "Now take the last digit of 47:\n",
    "47 % 10 = 7\n",
    "So the hundreds digit is 7.\n",
    "\n",
    "### Step 3 – Tens Place\n",
    "If we divide by 10, we push the number one place to the right:\n",
    "> 4782 // 10 = 478\n",
    "Now take the last digit of 478:\n",
    "> 478 % 10 = 8\n",
    "\n",
    "### Step 4 – Ones Place\n",
    "\n",
    "Just take the last digit of the original number:\n",
    "4782 % 10 = 2\n",
    "\n",
    "So the ones digit is 2."
   ]
  },
  {
   "cell_type": "code",
   "execution_count": 13,
   "id": "36b285fe",
   "metadata": {},
   "outputs": [
    {
     "name": "stdout",
     "output_type": "stream",
     "text": [
      "num // 100:  47\n",
      "num // 10:  478\n",
      "4 7 8 2\n"
     ]
    }
   ],
   "source": [
    "num = 4782\n",
    "\n",
    "thousands = num // 1000\n",
    "print(\"num // 100: \",num // 100)\n",
    "hundreds = (num // 100) % 10\n",
    "print(\"num // 10: \", num // 10)\n",
    "tens = (num // 10) % 10\n",
    "ones = num % 10\n",
    "\n",
    "print(thousands, hundreds, tens, ones)  # 4 7 8 2\n"
   ]
  },
  {
   "cell_type": "markdown",
   "id": "24f3ec02",
   "metadata": {},
   "source": [
    "## Truth Table Challenge\n",
    "\n",
    "Check conditions using only operators."
   ]
  },
  {
   "cell_type": "markdown",
   "id": "037601b8",
   "metadata": {},
   "source": [
    "## Divisible by Both 2 and 5\n",
    "\n",
    "- A number n should return True if it is divisible by both 2 and 5.\n",
    "\n",
    "> Divisible by 2 → n % 2 == 0\n",
    "\n",
    "> Divisible by 5 → n % 5 == 0\n",
    "\n",
    "- Combine both → and operator"
   ]
  },
  {
   "cell_type": "code",
   "execution_count": 8,
   "id": "e77ed21f",
   "metadata": {},
   "outputs": [
    {
     "name": "stdout",
     "output_type": "stream",
     "text": [
      "True\n"
     ]
    }
   ],
   "source": [
    "n = 20\n",
    "print(n % 2 == 0 and n % 5 == 0)   # True\n"
   ]
  },
  {
   "cell_type": "markdown",
   "id": "5e4c7f4d",
   "metadata": {},
   "source": [
    "## Both Variables Between 10 and 50\n",
    "\n",
    "Check if x and y are both in the range 10–50 (exclusive).\n",
    "\n",
    "> 10 < x < 50 checks if x is between 10 and 50.\n",
    "\n",
    "> 10 < y < 50 checks if y is between 10 and 50.\n",
    "\n",
    "Combine with and."
   ]
  },
  {
   "cell_type": "code",
   "execution_count": 16,
   "id": "bed55015",
   "metadata": {},
   "outputs": [
    {
     "name": "stdout",
     "output_type": "stream",
     "text": [
      "True\n"
     ]
    }
   ],
   "source": [
    "x, y = 30, 45\n",
    "print(10 < x < 50 and 10 < y < 50)   # True\n"
   ]
  },
  {
   "cell_type": "code",
   "execution_count": null,
   "id": "c2b35d8c",
   "metadata": {},
   "outputs": [],
   "source": []
  }
 ],
 "metadata": {
  "kernelspec": {
   "display_name": "Python 3 (ipykernel)",
   "language": "python",
   "name": "python3"
  },
  "language_info": {
   "codemirror_mode": {
    "name": "ipython",
    "version": 3
   },
   "file_extension": ".py",
   "mimetype": "text/x-python",
   "name": "python",
   "nbconvert_exporter": "python",
   "pygments_lexer": "ipython3",
   "version": "3.9.7"
  }
 },
 "nbformat": 4,
 "nbformat_minor": 5
}
