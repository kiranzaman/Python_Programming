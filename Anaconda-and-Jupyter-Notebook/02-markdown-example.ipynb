{
 "cells": [
  {
   "cell_type": "markdown",
   "id": "6fe6e187",
   "metadata": {},
   "source": [
    "---   \n",
    "\n",
    "<h1 align=\"center\">ExD</h1>\n",
    "<h1 align=\"center\">Course: Advanced Python Programming Language</h1>\n",
    "\n",
    "---   "
   ]
  },
  {
   "cell_type": "markdown",
   "id": "b5b4daea",
   "metadata": {},
   "source": [
    "<h1 align=\"center\">Lecture 2</h1>"
   ]
  },
  {
   "cell_type": "markdown",
   "id": "0724b0c9",
   "metadata": {},
   "source": [
    "## _02-markdown-example.ipynb_\n",
    "### [Learn more about Markdown Language:](https://docs.github.com/en/github/writing-on-github/getting-started-with-writing-and-formatting-on-github/basic-writing-and-formatting-syntax)\n",
    "### [Markdown Guide:](https://www.markdownguide.org/basic-syntax)"
   ]
  },
  {
   "cell_type": "code",
   "execution_count": null,
   "id": "107ee152",
   "metadata": {},
   "outputs": [],
   "source": []
  },
  {
   "cell_type": "code",
   "execution_count": 1,
   "id": "c40f10fb",
   "metadata": {},
   "outputs": [
    {
     "data": {
      "text/plain": [
       "'C:\\\\Users\\\\Kiran\\\\AdvancedPython\\\\Anaconda-and-Jupyter-Notebook'"
      ]
     },
     "execution_count": 1,
     "metadata": {},
     "output_type": "execute_result"
    }
   ],
   "source": [
    "%pwd"
   ]
  },
  {
   "cell_type": "code",
   "execution_count": 2,
   "id": "5c9fa324",
   "metadata": {},
   "outputs": [
    {
     "name": "stdout",
     "output_type": "stream",
     "text": [
      " Volume in drive C is Windows\n",
      " Volume Serial Number is CA48-14C7\n",
      "\n",
      " Directory of C:\\Users\\Kiran\\AdvancedPython\\Anaconda-and-Jupyter-Notebook\n",
      "\n",
      "16/03/2025  10:41 am    <DIR>          .\n",
      "13/03/2025  08:26 am    <DIR>          ..\n",
      "12/03/2025  04:31 pm    <DIR>          .ipynb_checkpoints\n",
      "15/03/2025  02:17 pm            39,752 01-hellojupyter.ipynb\n",
      "16/03/2025  10:41 am             4,754 02-markdown-example.ipynb\n",
      "12/03/2025  09:43 am    <DIR>          images\n",
      "15/03/2025  01:18 pm    <DIR>          test\n",
      "               2 File(s)         44,506 bytes\n",
      "               5 Dir(s)  24,147,976,192 bytes free\n"
     ]
    }
   ],
   "source": [
    "%ls"
   ]
  },
  {
   "cell_type": "markdown",
   "id": "624f24ca",
   "metadata": {},
   "source": [
    "# Welcome to Learning with Kiran Khursheed\n",
    "![alt text](images/img.jpg)\n",
    "\n",
    "# H1\n",
    "## H2\n",
    "### H3\n",
    "\n",
    "#### Bold\n",
    "\n",
    "**bold text**\n",
    "\n",
    "### Italic\n",
    "\n",
    "*italicized text*\n",
    "\n",
    "### Blockquote\n",
    "\n",
    "> blockquote\n",
    "\n",
    "### Ordered List\n",
    "\n",
    "1. First item\n",
    "2. Second item\n",
    "3. Third item\n",
    "\n",
    "### Unordered List\n",
    "\n",
    "- First item\n",
    "- Second item\n",
    "- Third item\n",
    "\n",
    "### Code\n",
    "\n",
    "`code`\n",
    "\n",
    "### Horizontal Rule\n",
    "\n",
    "---\n",
    "\n",
    "### Link\n",
    "\n",
    "[Markdown ok](https://www.markdownguide.org)\n",
    "\n",
    "\n",
    "## Extended Syntax\n",
    "\n",
    "These elements extend the basic syntax by adding additional features. Not all Markdown applications support these elements.\n",
    "\n",
    "### Table\n",
    "\n",
    "| Syntax | Description |\n",
    "| ----------- | ----------- |\n",
    "| Header | Title |\n",
    "| Paragraph | Text |\n",
    "\n",
    "### Fenced Code Block\n",
    "\n",
    "```\n",
    "{\n",
    "  \"firstName\": \"Kiran\",\n",
    "  \"lastName\": \"Khursheed\"\n",
    "}\n",
    "```\n",
    "\n",
    "### Footnote\n",
    "\n",
    "Here's a sentence with a footnote. [^1]\n",
    "\n",
    "[^1]: This is the footnote.\n",
    "\n",
    "### Heading ID\n",
    "\n",
    "### My Great Heading {#custom-id}\n",
    "\n",
    "### Definition List\n",
    "\n",
    "term\n",
    ": definition\n",
    "\n",
    "### Strikethrough\n",
    "\n",
    "~~The world is flat.~~\n",
    "\n",
    "### Task List\n",
    "\n",
    "- [x] Write the press release\n",
    "- [ ] Update the website\n",
    "- [ ] Contact the media"
   ]
  },
  {
   "cell_type": "code",
   "execution_count": 1,
   "id": "dece8166",
   "metadata": {},
   "outputs": [
    {
     "data": {
      "text/html": [
       "<iframe width=\"560\" height=\"315\" src=\"https://www.youtube.com/watch?v=JTGDSM8uTDg\" frameborder=\"0\" allowfullscreen></iframe>\n"
      ],
      "text/plain": [
       "<IPython.core.display.HTML object>"
      ]
     },
     "metadata": {},
     "output_type": "display_data"
    }
   ],
   "source": [
    "%%HTML\n",
    "<iframe width=\"560\" height=\"315\" src=\"https://www.youtube.com/watch?v=JTGDSM8uTDg\" frameborder=\"0\" allowfullscreen></iframe>"
   ]
  },
  {
   "cell_type": "code",
   "execution_count": null,
   "id": "6182268a",
   "metadata": {},
   "outputs": [],
   "source": []
  },
  {
   "cell_type": "raw",
   "id": "8f94c42c",
   "metadata": {},
   "source": [
    "My name is Kiran Khursheed"
   ]
  },
  {
   "cell_type": "code",
   "execution_count": null,
   "id": "1e7c850f",
   "metadata": {},
   "outputs": [],
   "source": []
  }
 ],
 "metadata": {
  "kernelspec": {
   "display_name": "Python 3 (ipykernel)",
   "language": "python",
   "name": "python3"
  },
  "language_info": {
   "codemirror_mode": {
    "name": "ipython",
    "version": 3
   },
   "file_extension": ".py",
   "mimetype": "text/x-python",
   "name": "python",
   "nbconvert_exporter": "python",
   "pygments_lexer": "ipython3",
   "version": "3.9.7"
  }
 },
 "nbformat": 4,
 "nbformat_minor": 5
}
